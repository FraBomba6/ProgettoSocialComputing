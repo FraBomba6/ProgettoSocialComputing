{
 "cells": [
  {
   "cell_type": "code",
   "execution_count": 1,
   "outputs": [],
   "source": [
    "# Setup credentials\n",
    "\n",
    "import keys\n",
    "\n",
    "consumer_key = keys.key\n",
    "consumer_secret = keys.secret\n",
    "bearer_token = keys.bearer\n",
    "access_token = keys.access_token\n",
    "access_secret = keys.access_secret"
   ],
   "metadata": {
    "collapsed": false,
    "pycharm": {
     "name": "#%%\n"
    }
   }
  },
  {
   "cell_type": "code",
   "execution_count": 2,
   "outputs": [
    {
     "name": "stdout",
     "output_type": "stream",
     "text": [
      "Auth completed successfuly!\n"
     ]
    }
   ],
   "source": [
    "# Authentication on Twitter API\n",
    "\n",
    "import tweepy\n",
    "\n",
    "auth = tweepy.OAuthHandler(consumer_key, consumer_secret)\n",
    "auth.set_access_token(access_token, access_secret)\n",
    "api = tweepy.API(auth, wait_on_rate_limit=True, wait_on_rate_limit_notify=True)\n",
    "if api.verify_credentials:\n",
    "    print(\"Auth completed successfuly!\")\n",
    "else:\n",
    "    print(\"Issue occoured during authentication\")"
   ],
   "metadata": {
    "collapsed": false,
    "pycharm": {
     "name": "#%%\n"
    }
   }
  },
  {
   "cell_type": "code",
   "execution_count": 5,
   "outputs": [],
   "source": [
    "# Import serializer from an external module\n",
    "\n",
    "from serializer import Serializer"
   ],
   "metadata": {
    "collapsed": false,
    "pycharm": {
     "name": "#%%\n"
    }
   }
  },
  {
   "cell_type": "code",
   "execution_count": 7,
   "metadata": {
    "collapsed": true,
    "jupyter": {
     "outputs_hidden": true
    },
    "pycharm": {
     "name": "#%%\n"
    }
   },
   "outputs": [
    {
     "name": "stdout",
     "output_type": "stream",
     "text": [
      "Data serialized to path: check_data/mizzaro/mizzaro_profile.json\n",
      "Data serialized to path: check_data/damiano10/damiano10_profile.json\n",
      "Data serialized to path: check_data/Miccighel_/Miccighel__profile.json\n",
      "Data serialized to path: check_data/eglu81/eglu81_profile.json\n",
      "Data serialized to path: check_data/KevinRoitero/KevinRoitero_profile.json\n"
     ]
    }
   ],
   "source": [
    "# Get starting users info\n",
    "\n",
    "accounts = [\"mizzaro\", \"damiano10\", \"Miccighel_\", \"eglu81\", \"KevinRoitero\"]\n",
    "for account in accounts:\n",
    "    serializer = Serializer(f'check_data/{account}')\n",
    "    profile = api.get_user(account)\n",
    "    profile_json = profile._json\n",
    "    serializer.serialize_json(f'{account}_profile.json', profile_json)"
   ]
  },
  {
   "cell_type": "code",
   "execution_count": 8,
   "outputs": [
    {
     "name": "stdout",
     "output_type": "stream",
     "text": [
      "Processing @mizzaro\n",
      "Found 158 followers for @mizzaro\n",
      "Data serialized to path: check_data/mizzaro/mizzaro_followers.json\n",
      "@mizzaro follows 331 users\n",
      "Data serialized to path: check_data/mizzaro/mizzaro_following.json\n",
      "Processing @damiano10\n",
      "Found 791 followers for @damiano10\n",
      "Data serialized to path: check_data/damiano10/damiano10_followers.json\n",
      "@damiano10 follows 840 users\n",
      "Data serialized to path: check_data/damiano10/damiano10_following.json\n",
      "Processing @Miccighel_\n",
      "Found 333 followers for @Miccighel_\n",
      "Data serialized to path: check_data/Miccighel_/Miccighel__followers.json\n",
      "@Miccighel_ follows 212 users\n",
      "Data serialized to path: check_data/Miccighel_/Miccighel__following.json\n",
      "Processing @eglu81\n",
      "Found 538 followers for @eglu81\n",
      "Data serialized to path: check_data/eglu81/eglu81_followers.json\n",
      "@eglu81 follows 622 users\n",
      "Data serialized to path: check_data/eglu81/eglu81_following.json\n",
      "Processing @KevinRoitero\n",
      "Found 103 followers for @KevinRoitero\n",
      "Data serialized to path: check_data/KevinRoitero/KevinRoitero_followers.json\n",
      "@KevinRoitero follows 256 users\n",
      "Data serialized to path: check_data/KevinRoitero/KevinRoitero_following.json\n"
     ]
    },
    {
     "name": "stderr",
     "output_type": "stream",
     "text": [
      "Rate limit reached. Sleeping for: 894\n",
      "Rate limit reached. Sleeping for: 893\n",
      "Rate limit reached. Sleeping for: 894\n",
      "Rate limit reached. Sleeping for: 893\n",
      "Rate limit reached. Sleeping for: 894\n",
      "Rate limit reached. Sleeping for: 893\n",
      "Rate limit reached. Sleeping for: 889\n",
      "Rate limit reached. Sleeping for: 893\n",
      "Rate limit reached. Sleeping for: 894\n"
     ]
    }
   ],
   "source": [
    "# Point #1 of the assignment: retrieve starting users followers and followings\n",
    "\n",
    "for account in accounts:\n",
    "    print(f\"Processing @{account}\")\n",
    "    serializer = Serializer(f'check_data/{account}')\n",
    "\n",
    "### FOLLOWERS\n",
    "\n",
    "    account_followers = []\n",
    "    for item in tweepy.Cursor(\n",
    "            api.followers,\n",
    "            screen_name=account,\n",
    "            skip_status=True,\n",
    "            include_user_entities=False\n",
    "    ).items():\n",
    "        found_follower = item._json\n",
    "        account_followers.append(found_follower)\n",
    "\n",
    "    print(f\"Found {len(account_followers)} followers for @{account}\")\n",
    "    serializer.serialize_json(f\"{account}_follower.json\", account_followers)\n",
    "\n",
    "### FOLLOWINGS\n",
    "\n",
    "    account_followings = []\n",
    "    for item in tweepy.Cursor(\n",
    "            api.friends,\n",
    "            screen_name=account,\n",
    "            skip_status=True,\n",
    "            include_user_entities=False\n",
    "    ).items():\n",
    "        found_followings = item._json\n",
    "        account_followings.append(found_followings)\n",
    "\n",
    "    print(f\"@{account} follows {len(account_followings)} users\")\n",
    "    serializer.serialize_json(f\"{account}_following.json\", account_followings)"
   ],
   "metadata": {
    "collapsed": false,
    "pycharm": {
     "name": "#%%\n"
    }
   }
  },
  {
   "cell_type": "code",
   "execution_count": 9,
   "outputs": [
    {
     "name": "stdout",
     "output_type": "stream",
     "text": [
      "Data read from path: check_data/mizzaro/mizzaro_followers.json\n",
      "Found 10 followers for @airamoigroig\n",
      "Data serialized to path: check_data/mizzaro/random_269301403_follower.json\n",
      "Found 10 followers for @MauroLorenzutti\n",
      "Data serialized to path: check_data/mizzaro/random_332134740_follower.json\n",
      "Found 10 followers for @fmnardini\n",
      "Data serialized to path: check_data/mizzaro/random_125483940_follower.json\n",
      "Found 10 followers for @ridhorei\n",
      "Data serialized to path: check_data/mizzaro/random_151303125_follower.json\n",
      "Found 10 followers for @damiano10\n",
      "Data serialized to path: check_data/mizzaro/random_132646210_follower.json\n"
     ]
    },
    {
     "ename": "JSONDecodeError",
     "evalue": "Expecting value: line 1 column 1 (char 0)",
     "output_type": "error",
     "traceback": [
      "\u001B[1;31m---------------------------------------------------------------------------\u001B[0m",
      "\u001B[1;31mJSONDecodeError\u001B[0m                           Traceback (most recent call last)",
      "\u001B[1;32m<ipython-input-9-91c3ac956ec5>\u001B[0m in \u001B[0;36m<module>\u001B[1;34m\u001B[0m\n\u001B[0;32m     24\u001B[0m         \u001B[0mserializer\u001B[0m\u001B[1;33m.\u001B[0m\u001B[0mserialize_json\u001B[0m\u001B[1;33m(\u001B[0m\u001B[1;34mf\"random_{random_follower_id}_follower.json\"\u001B[0m\u001B[1;33m,\u001B[0m \u001B[0mrandom_follower_followers\u001B[0m\u001B[1;33m)\u001B[0m\u001B[1;33m\u001B[0m\u001B[1;33m\u001B[0m\u001B[0m\n\u001B[0;32m     25\u001B[0m \u001B[1;33m\u001B[0m\u001B[0m\n\u001B[1;32m---> 26\u001B[1;33m     \u001B[0mjson\u001B[0m \u001B[1;33m=\u001B[0m \u001B[0mserializer\u001B[0m\u001B[1;33m.\u001B[0m\u001B[0mread_json\u001B[0m\u001B[1;33m(\u001B[0m\u001B[1;34mf\"{account}_following.json\"\u001B[0m\u001B[1;33m)\u001B[0m\u001B[1;33m\u001B[0m\u001B[1;33m\u001B[0m\u001B[0m\n\u001B[0m\u001B[0;32m     27\u001B[0m     \u001B[1;32mfor\u001B[0m \u001B[0mcount\u001B[0m \u001B[1;32min\u001B[0m \u001B[0mrange\u001B[0m\u001B[1;33m(\u001B[0m\u001B[1;36m0\u001B[0m\u001B[1;33m,\u001B[0m \u001B[1;36m5\u001B[0m\u001B[1;33m)\u001B[0m\u001B[1;33m:\u001B[0m\u001B[1;33m\u001B[0m\u001B[1;33m\u001B[0m\u001B[0m\n\u001B[0;32m     28\u001B[0m         \u001B[0mrandom_following\u001B[0m \u001B[1;33m=\u001B[0m \u001B[0mrandom\u001B[0m\u001B[1;33m.\u001B[0m\u001B[0mchoice\u001B[0m\u001B[1;33m(\u001B[0m\u001B[0mjson\u001B[0m\u001B[1;33m)\u001B[0m\u001B[1;33m\u001B[0m\u001B[1;33m\u001B[0m\u001B[0m\n",
      "\u001B[1;32m~\\OneDrive - Università degli Studi di Udine\\UniUd\\Social Computing\\Lab\\ProgettoSocialComputing\\serializer.py\u001B[0m in \u001B[0;36mread_json\u001B[1;34m(self, file_name)\u001B[0m\n\u001B[0;32m     21\u001B[0m         \u001B[1;32mif\u001B[0m \u001B[0mos\u001B[0m\u001B[1;33m.\u001B[0m\u001B[0mpath\u001B[0m\u001B[1;33m.\u001B[0m\u001B[0mexists\u001B[0m\u001B[1;33m(\u001B[0m\u001B[0mcomplete_path\u001B[0m\u001B[1;33m)\u001B[0m\u001B[1;33m:\u001B[0m\u001B[1;33m\u001B[0m\u001B[1;33m\u001B[0m\u001B[0m\n\u001B[0;32m     22\u001B[0m             \u001B[1;32mwith\u001B[0m \u001B[0mopen\u001B[0m\u001B[1;33m(\u001B[0m\u001B[0mcomplete_path\u001B[0m\u001B[1;33m,\u001B[0m \u001B[1;34m\"r\"\u001B[0m\u001B[1;33m,\u001B[0m \u001B[0mencoding\u001B[0m\u001B[1;33m=\u001B[0m\u001B[1;34m\"utf8\"\u001B[0m\u001B[1;33m)\u001B[0m \u001B[1;32mas\u001B[0m \u001B[0mfile\u001B[0m\u001B[1;33m:\u001B[0m\u001B[1;33m\u001B[0m\u001B[1;33m\u001B[0m\u001B[0m\n\u001B[1;32m---> 23\u001B[1;33m                 \u001B[0mdata\u001B[0m \u001B[1;33m=\u001B[0m \u001B[0mjson\u001B[0m\u001B[1;33m.\u001B[0m\u001B[0mload\u001B[0m\u001B[1;33m(\u001B[0m\u001B[0mfile\u001B[0m\u001B[1;33m)\u001B[0m\u001B[1;33m\u001B[0m\u001B[1;33m\u001B[0m\u001B[0m\n\u001B[0m\u001B[0;32m     24\u001B[0m             \u001B[0mprint\u001B[0m\u001B[1;33m(\u001B[0m\u001B[1;34mf\"Data read from path: {complete_path}\"\u001B[0m\u001B[1;33m)\u001B[0m\u001B[1;33m\u001B[0m\u001B[1;33m\u001B[0m\u001B[0m\n\u001B[0;32m     25\u001B[0m             \u001B[1;32mreturn\u001B[0m \u001B[0mdata\u001B[0m\u001B[1;33m\u001B[0m\u001B[1;33m\u001B[0m\u001B[0m\n",
      "\u001B[1;32mc:\\users\\francesco\\appdata\\local\\programs\\python\\python37\\lib\\json\\__init__.py\u001B[0m in \u001B[0;36mload\u001B[1;34m(fp, cls, object_hook, parse_float, parse_int, parse_constant, object_pairs_hook, **kw)\u001B[0m\n\u001B[0;32m    294\u001B[0m         \u001B[0mcls\u001B[0m\u001B[1;33m=\u001B[0m\u001B[0mcls\u001B[0m\u001B[1;33m,\u001B[0m \u001B[0mobject_hook\u001B[0m\u001B[1;33m=\u001B[0m\u001B[0mobject_hook\u001B[0m\u001B[1;33m,\u001B[0m\u001B[1;33m\u001B[0m\u001B[1;33m\u001B[0m\u001B[0m\n\u001B[0;32m    295\u001B[0m         \u001B[0mparse_float\u001B[0m\u001B[1;33m=\u001B[0m\u001B[0mparse_float\u001B[0m\u001B[1;33m,\u001B[0m \u001B[0mparse_int\u001B[0m\u001B[1;33m=\u001B[0m\u001B[0mparse_int\u001B[0m\u001B[1;33m,\u001B[0m\u001B[1;33m\u001B[0m\u001B[1;33m\u001B[0m\u001B[0m\n\u001B[1;32m--> 296\u001B[1;33m         parse_constant=parse_constant, object_pairs_hook=object_pairs_hook, **kw)\n\u001B[0m\u001B[0;32m    297\u001B[0m \u001B[1;33m\u001B[0m\u001B[0m\n\u001B[0;32m    298\u001B[0m \u001B[1;33m\u001B[0m\u001B[0m\n",
      "\u001B[1;32mc:\\users\\francesco\\appdata\\local\\programs\\python\\python37\\lib\\json\\__init__.py\u001B[0m in \u001B[0;36mloads\u001B[1;34m(s, encoding, cls, object_hook, parse_float, parse_int, parse_constant, object_pairs_hook, **kw)\u001B[0m\n\u001B[0;32m    346\u001B[0m             \u001B[0mparse_int\u001B[0m \u001B[1;32mis\u001B[0m \u001B[1;32mNone\u001B[0m \u001B[1;32mand\u001B[0m \u001B[0mparse_float\u001B[0m \u001B[1;32mis\u001B[0m \u001B[1;32mNone\u001B[0m \u001B[1;32mand\u001B[0m\u001B[1;33m\u001B[0m\u001B[1;33m\u001B[0m\u001B[0m\n\u001B[0;32m    347\u001B[0m             parse_constant is None and object_pairs_hook is None and not kw):\n\u001B[1;32m--> 348\u001B[1;33m         \u001B[1;32mreturn\u001B[0m \u001B[0m_default_decoder\u001B[0m\u001B[1;33m.\u001B[0m\u001B[0mdecode\u001B[0m\u001B[1;33m(\u001B[0m\u001B[0ms\u001B[0m\u001B[1;33m)\u001B[0m\u001B[1;33m\u001B[0m\u001B[1;33m\u001B[0m\u001B[0m\n\u001B[0m\u001B[0;32m    349\u001B[0m     \u001B[1;32mif\u001B[0m \u001B[0mcls\u001B[0m \u001B[1;32mis\u001B[0m \u001B[1;32mNone\u001B[0m\u001B[1;33m:\u001B[0m\u001B[1;33m\u001B[0m\u001B[1;33m\u001B[0m\u001B[0m\n\u001B[0;32m    350\u001B[0m         \u001B[0mcls\u001B[0m \u001B[1;33m=\u001B[0m \u001B[0mJSONDecoder\u001B[0m\u001B[1;33m\u001B[0m\u001B[1;33m\u001B[0m\u001B[0m\n",
      "\u001B[1;32mc:\\users\\francesco\\appdata\\local\\programs\\python\\python37\\lib\\json\\decoder.py\u001B[0m in \u001B[0;36mdecode\u001B[1;34m(self, s, _w)\u001B[0m\n\u001B[0;32m    335\u001B[0m \u001B[1;33m\u001B[0m\u001B[0m\n\u001B[0;32m    336\u001B[0m         \"\"\"\n\u001B[1;32m--> 337\u001B[1;33m         \u001B[0mobj\u001B[0m\u001B[1;33m,\u001B[0m \u001B[0mend\u001B[0m \u001B[1;33m=\u001B[0m \u001B[0mself\u001B[0m\u001B[1;33m.\u001B[0m\u001B[0mraw_decode\u001B[0m\u001B[1;33m(\u001B[0m\u001B[0ms\u001B[0m\u001B[1;33m,\u001B[0m \u001B[0midx\u001B[0m\u001B[1;33m=\u001B[0m\u001B[0m_w\u001B[0m\u001B[1;33m(\u001B[0m\u001B[0ms\u001B[0m\u001B[1;33m,\u001B[0m \u001B[1;36m0\u001B[0m\u001B[1;33m)\u001B[0m\u001B[1;33m.\u001B[0m\u001B[0mend\u001B[0m\u001B[1;33m(\u001B[0m\u001B[1;33m)\u001B[0m\u001B[1;33m)\u001B[0m\u001B[1;33m\u001B[0m\u001B[1;33m\u001B[0m\u001B[0m\n\u001B[0m\u001B[0;32m    338\u001B[0m         \u001B[0mend\u001B[0m \u001B[1;33m=\u001B[0m \u001B[0m_w\u001B[0m\u001B[1;33m(\u001B[0m\u001B[0ms\u001B[0m\u001B[1;33m,\u001B[0m \u001B[0mend\u001B[0m\u001B[1;33m)\u001B[0m\u001B[1;33m.\u001B[0m\u001B[0mend\u001B[0m\u001B[1;33m(\u001B[0m\u001B[1;33m)\u001B[0m\u001B[1;33m\u001B[0m\u001B[1;33m\u001B[0m\u001B[0m\n\u001B[0;32m    339\u001B[0m         \u001B[1;32mif\u001B[0m \u001B[0mend\u001B[0m \u001B[1;33m!=\u001B[0m \u001B[0mlen\u001B[0m\u001B[1;33m(\u001B[0m\u001B[0ms\u001B[0m\u001B[1;33m)\u001B[0m\u001B[1;33m:\u001B[0m\u001B[1;33m\u001B[0m\u001B[1;33m\u001B[0m\u001B[0m\n",
      "\u001B[1;32mc:\\users\\francesco\\appdata\\local\\programs\\python\\python37\\lib\\json\\decoder.py\u001B[0m in \u001B[0;36mraw_decode\u001B[1;34m(self, s, idx)\u001B[0m\n\u001B[0;32m    353\u001B[0m             \u001B[0mobj\u001B[0m\u001B[1;33m,\u001B[0m \u001B[0mend\u001B[0m \u001B[1;33m=\u001B[0m \u001B[0mself\u001B[0m\u001B[1;33m.\u001B[0m\u001B[0mscan_once\u001B[0m\u001B[1;33m(\u001B[0m\u001B[0ms\u001B[0m\u001B[1;33m,\u001B[0m \u001B[0midx\u001B[0m\u001B[1;33m)\u001B[0m\u001B[1;33m\u001B[0m\u001B[1;33m\u001B[0m\u001B[0m\n\u001B[0;32m    354\u001B[0m         \u001B[1;32mexcept\u001B[0m \u001B[0mStopIteration\u001B[0m \u001B[1;32mas\u001B[0m \u001B[0merr\u001B[0m\u001B[1;33m:\u001B[0m\u001B[1;33m\u001B[0m\u001B[1;33m\u001B[0m\u001B[0m\n\u001B[1;32m--> 355\u001B[1;33m             \u001B[1;32mraise\u001B[0m \u001B[0mJSONDecodeError\u001B[0m\u001B[1;33m(\u001B[0m\u001B[1;34m\"Expecting value\"\u001B[0m\u001B[1;33m,\u001B[0m \u001B[0ms\u001B[0m\u001B[1;33m,\u001B[0m \u001B[0merr\u001B[0m\u001B[1;33m.\u001B[0m\u001B[0mvalue\u001B[0m\u001B[1;33m)\u001B[0m \u001B[1;32mfrom\u001B[0m \u001B[1;32mNone\u001B[0m\u001B[1;33m\u001B[0m\u001B[1;33m\u001B[0m\u001B[0m\n\u001B[0m\u001B[0;32m    356\u001B[0m         \u001B[1;32mreturn\u001B[0m \u001B[0mobj\u001B[0m\u001B[1;33m,\u001B[0m \u001B[0mend\u001B[0m\u001B[1;33m\u001B[0m\u001B[1;33m\u001B[0m\u001B[0m\n",
      "\u001B[1;31mJSONDecodeError\u001B[0m: Expecting value: line 1 column 1 (char 0)"
     ]
    }
   ],
   "source": [
    "# Points #2 and #3 of the assignment: pick 5 random followers of the starting users,\n",
    "# retrieve 10 followers each, pick 5 random followings of the starting users\n",
    "# and retrieve 10 followings each\n",
    "\n",
    "import random\n",
    "\n",
    "for account in accounts:\n",
    "    serializer = Serializer(f'check_data/{account}')\n",
    "    json = serializer.read_json(f\"{account}_followers.json\")\n",
    "    for count in range(0, 5):\n",
    "        random_follower = random.choice(json)\n",
    "        random_follower_screenName = random_follower[\"screen_name\"]\n",
    "        random_follower_id = random_follower[\"id\"]\n",
    "        random_follower_followers = []\n",
    "        for item in tweepy.Cursor(\n",
    "                api.followers,\n",
    "                screen_name=random_follower_screenName,\n",
    "                skip_status=True,\n",
    "                include_user_entities=False\n",
    "        ).items(10):\n",
    "            found_follower = item._json\n",
    "            random_follower_followers.append(found_follower)\n",
    "        print(f\"Found {len(random_follower_followers)} followers for @{random_follower_screenName}\")\n",
    "        serializer.serialize_json(f\"random_{random_follower_id}_follower.json\", random_follower_followers)\n",
    "\n",
    "    json = serializer.read_json(f\"{account}_following.json\")\n",
    "    for count in range(0, 5):\n",
    "        random_following = random.choice(json)\n",
    "        random_following_screenName = random_following[\"screen_name\"]\n",
    "        random_following_id = random_following[\"id\"]\n",
    "        random_following_followings = []\n",
    "        for item in tweepy.Cursor(\n",
    "                api.friends,\n",
    "                screen_name=random_following_screenName,\n",
    "                skip_status=True,\n",
    "                include_user_entities=False\n",
    "        ).items(10):\n",
    "            found_friend = item._json\n",
    "            random_following_followings.append(found_friend)\n",
    "        print(f\"@{random_following_screenName} follows {len(random_following_followings)} users\")\n",
    "        serializer.serialize_json(f\"random_{random_following_id}_following.json\", random_following_followings)"
   ],
   "metadata": {
    "collapsed": false,
    "pycharm": {
     "name": "#%%\n"
    }
   }
  },
  {
   "cell_type": "code",
   "execution_count": null,
   "outputs": [],
   "source": [
    "# Point #4 of the assignment: retrieve all encountered users' profile\n",
    "from datetime import datetime\n",
    "import os\n",
    "\n",
    "error_count = 0         # Keep trace of how many errors occurred during user retrieval (account not found)\n",
    "duplicate_count = 0     # Keep trace of users already encountered\n",
    "\n",
    "all_users = []\n",
    "processed_ids = []\n",
    "\n",
    "print(f\"Start at {datetime.now()}\")\n",
    "for account in accounts:\n",
    "    print(\n",
    "        f'\\n\\n*************************************\\nProcessing {account} and his friends\\n*************************************')\n",
    "    serializer = Serializer(f'check_data/{account}')\n",
    "    with os.scandir(f'check_data/{account}') as it:\n",
    "        for entry in it:\n",
    "            if entry.name.endswith('.json') and not entry.name.endswith('profile.json'):\n",
    "                print('\\n\\n******************')\n",
    "                users_data = serializer.read_json(f\"{entry.name}\")\n",
    "                print(f'\\nProcessing {entry.name}, containing {len(users_data)} users\\n******************\\n\\n')\n",
    "                for user in users_data:\n",
    "                    if user[\"id\"] not in processed_ids:\n",
    "                        try:\n",
    "                            print(f'Processing {user[\"id\"]}, user #{len(all_users) + 1}')\n",
    "                            user_details = api.get_user(user[\"id\"])._json\n",
    "                            useful_user_details = {\n",
    "                                \"id\": user_details[\"id\"],\n",
    "                                \"name\": user_details[\"name\"],\n",
    "                                \"screen_name\": user_details[\"screen_name\"],\n",
    "                                \"description\": user_details[\"description\"],\n",
    "                                \"followers_count\": user_details[\"followers_count\"],\n",
    "                                \"friends_count\": user_details[\"friends_count\"],\n",
    "                                \"profile_image_url_https\": user_details[\"profile_image_url_https\"]\n",
    "                            }\n",
    "                            all_users.append(useful_user_details)\n",
    "                            processed_ids.append(user_details[\"id\"])\n",
    "                        except tweepy.TweepError:\n",
    "                            error_count += 1\n",
    "                            print(\"Skipped user because of error\")\n",
    "                    else:\n",
    "                        duplicate_count += 1\n",
    "serializer = Serializer('check_data')\n",
    "print('\\n\\n*************************************\\n')\n",
    "serializer.serialize_json(f\"all_users.json\", all_users)\n",
    "print('\\n*************************************\\n\\n')\n",
    "print(f'Found {error_count} errors and {duplicate_count} duplicates')"
   ],
   "metadata": {
    "collapsed": false,
    "pycharm": {
     "name": "#%%\n"
    }
   }
  },
  {
   "cell_type": "code",
   "execution_count": null,
   "outputs": [],
   "source": [
    "# As requested, before building the social network is necessary to check friendships\n",
    "\n",
    "def get_friendship(sourceid, targetid, api):\n",
    "    kind = \"\"\n",
    "\n",
    "    friendship = api.show_friendship(source_id=sourceid, target_id=targetid)\n",
    "\n",
    "    if not friendship[0].following and not friendship[0].followed_by:\n",
    "        kind = \"none\"\n",
    "    elif not friendship[0].following and friendship[0].followed_by:\n",
    "        kind = \"r_l\"\n",
    "    elif friendship[0].following and not friendship[0].followed_by:\n",
    "        kind = \"l_r\"\n",
    "    else:\n",
    "        kind = \"bi\"\n",
    "\n",
    "    return {\n",
    "        \"source_id\": sourceid,\n",
    "        \"target_id\": targetid,\n",
    "        \"friendship\": kind\n",
    "    }\n",
    "\n",
    "serializer = Serializer('check_data')\n",
    "users = serializer.read_json(\"all_users.json\")\n",
    "edges = []\n",
    "count = 0\n",
    "for account in accounts:\n",
    "    serializer = Serializer(f'check_data/{account}')\n",
    "    account_json = serializer.read_json(f\"{account}_profile.json\")\n",
    "    account_id = account_json[\"id\"]\n",
    "    for user in users:\n",
    "        if user[\"id\"] is not account_id:\n",
    "            edges.append(get_friendship(account_id, user[\"id\"], api))\n",
    "            count += 1\n",
    "            print(f\"Added friendship between {account} and {user['screen_name']} #{count}\")\n",
    "    # There's also the necessity to check friendships between the random picked users at Point #2 and #3 and their followers and followings\n",
    "    with os.scandir(f'check_data/{account}') as it:\n",
    "        for entry in it:\n",
    "            if entry.name.endswith('.json') and entry.name.startswith('random'):\n",
    "                fileId = int(entry.name.split(\"_\")[1])\n",
    "                json = serializer.read_json(entry.name)\n",
    "                for profile in json:\n",
    "                    edges.append(get_friendship(fileId, profile[\"id\"], api))\n",
    "                    count += 1\n",
    "                    print(f\"Added friendship between {fileId} and {profile['screen_name']} #{count}\")\n",
    "\n",
    "serializer = Serializer('check_data')\n",
    "serializer.serialize_json(f'all_friendships.json', edges)"
   ],
   "metadata": {
    "collapsed": false,
    "pycharm": {
     "name": "#%%\n"
    }
   }
  },
  {
   "cell_type": "code",
   "execution_count": null,
   "outputs": [],
   "source": [
    "# Point #5 of the assignment: build the social network"
   ],
   "metadata": {
    "collapsed": false,
    "pycharm": {
     "name": "#%%\n"
    }
   }
  }
 ],
 "metadata": {
  "kernelspec": {
   "display_name": "Python 3",
   "language": "python",
   "name": "python3"
  },
  "language_info": {
   "codemirror_mode": {
    "name": "ipython",
    "version": 3
   },
   "file_extension": ".py",
   "mimetype": "text/x-python",
   "name": "python",
   "nbconvert_exporter": "python",
   "pygments_lexer": "ipython3",
   "version": "3.7.9"
  }
 },
 "nbformat": 4,
 "nbformat_minor": 4
}