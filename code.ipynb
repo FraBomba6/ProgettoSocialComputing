{
 "cells": [
  {
   "cell_type": "code",
   "execution_count": null,
   "outputs": [],
   "source": [
    "# Setup credentials\n",
    "\n",
    "import keys\n",
    "\n",
    "consumer_key = keys.key\n",
    "consumer_secret = keys.secret\n",
    "bearer_token = keys.bearer\n",
    "access_token = keys.access_token\n",
    "access_secret = keys.access_secret"
   ],
   "metadata": {
    "collapsed": false,
    "pycharm": {
     "name": "#%%\n"
    }
   }
  },
  {
   "cell_type": "code",
   "execution_count": null,
   "outputs": [],
   "source": [
    "# Authentication on Twitter API\n",
    "\n",
    "import tweepy\n",
    "\n",
    "auth = tweepy.OAuthHandler(consumer_key, consumer_secret)\n",
    "auth.set_access_token(access_token, access_secret)\n",
    "api = tweepy.API(auth, wait_on_rate_limit=True, wait_on_rate_limit_notify=True)\n",
    "if api.verify_credentials:\n",
    "    print(\"Auth completed successfuly!\")\n",
    "else:\n",
    "    print(\"Issue occoured during authentication\")"
   ],
   "metadata": {
    "collapsed": false,
    "pycharm": {
     "name": "#%%\n"
    }
   }
  },
  {
   "cell_type": "code",
   "execution_count": null,
   "outputs": [],
   "source": [
    "# Import serializer from an external module\n",
    "\n",
    "from serializer import Serializer\n",
    "\n",
    "# Define data directory\n",
    "dataDir = \"data\""
   ],
   "metadata": {
    "collapsed": false,
    "pycharm": {
     "name": "#%%\n"
    }
   }
  },
  {
   "cell_type": "code",
   "execution_count": null,
   "metadata": {
    "collapsed": true,
    "jupyter": {
     "outputs_hidden": true
    },
    "pycharm": {
     "name": "#%%\n"
    }
   },
   "outputs": [],
   "source": [
    "# Get starting users info\n",
    "accounts = [\"mizzaro\", \"damiano10\", \"Miccighel_\", \"eglu81\", \"KevinRoitero\"]\n",
    "for account in accounts:\n",
    "    serializer = Serializer(f'{dataDir}/{account}')\n",
    "    profile = api.get_user(account)\n",
    "    profile_json = profile._json\n",
    "    serializer.serialize_json(f'{account}_profile.json', profile_json)"
   ]
  },
  {
   "cell_type": "code",
   "execution_count": null,
   "outputs": [],
   "source": [
    "# Point #1 of the assignment: retrieve starting users followers and followings\n",
    "\n",
    "for account in accounts:\n",
    "    print(f\"Processing @{account}\")\n",
    "    serializer = Serializer(f'{dataDir}/{account}')\n",
    "\n",
    "### FOLLOWERS\n",
    "\n",
    "    account_followers = []\n",
    "    for item in tweepy.Cursor(\n",
    "            api.followers,\n",
    "            screen_name=account,\n",
    "            skip_status=True,\n",
    "            include_user_entities=False\n",
    "    ).items():\n",
    "        found_follower = item._json\n",
    "        account_followers.append(found_follower)\n",
    "\n",
    "    print(f\"Found {len(account_followers)} followers for @{account}\")\n",
    "    serializer.serialize_json(f\"{account}_follower.json\", account_followers)\n",
    "\n",
    "### FOLLOWINGS\n",
    "\n",
    "    account_followings = []\n",
    "    for item in tweepy.Cursor(\n",
    "            api.friends,\n",
    "            screen_name=account,\n",
    "            skip_status=True,\n",
    "            include_user_entities=False\n",
    "    ).items():\n",
    "        found_followings = item._json\n",
    "        account_followings.append(found_followings)\n",
    "\n",
    "    print(f\"@{account} follows {len(account_followings)} users\")\n",
    "    serializer.serialize_json(f\"{account}_following.json\", account_followings)"
   ],
   "metadata": {
    "collapsed": false,
    "pycharm": {
     "name": "#%%\n"
    }
   }
  },
  {
   "cell_type": "code",
   "execution_count": null,
   "outputs": [],
   "source": [
    "# Points #2 and #3 of the assignment: pick 5 random followers of the starting users,\n",
    "# retrieve 10 followers each, pick 5 random followings of the starting users\n",
    "# and retrieve 10 followings each\n",
    "import random\n",
    "\n",
    "for account in accounts:\n",
    "    serializer = Serializer(f'{dataDir}/{account}')\n",
    "    json = serializer.read_json(f\"{account}_follower.json\")\n",
    "    for count in range(0, 5):\n",
    "        random_follower = random.choice(json)\n",
    "        random_follower_screenName = random_follower[\"screen_name\"]\n",
    "        random_follower_id = random_follower[\"id\"]\n",
    "        random_follower_followers = []\n",
    "        for item in tweepy.Cursor(\n",
    "                api.followers,\n",
    "                screen_name=random_follower_screenName,\n",
    "                skip_status=True,\n",
    "                include_user_entities=False\n",
    "        ).items(10):\n",
    "            found_follower = item._json\n",
    "            random_follower_followers.append(found_follower)\n",
    "        print(f\"Found {len(random_follower_followers)} followers for @{random_follower_screenName}\")\n",
    "        serializer.serialize_json(f\"random_{random_follower_id}_follower.json\", random_follower_followers)\n",
    "\n",
    "    json = serializer.read_json(f\"{account}_following.json\")\n",
    "    for count in range(0, 5):\n",
    "        random_following = random.choice(json)\n",
    "        random_following_screenName = random_following[\"screen_name\"]\n",
    "        random_following_id = random_following[\"id\"]\n",
    "        random_following_followings = []\n",
    "        for item in tweepy.Cursor(\n",
    "                api.friends,\n",
    "                screen_name=random_following_screenName,\n",
    "                skip_status=True,\n",
    "                include_user_entities=False\n",
    "        ).items(10):\n",
    "            found_friend = item._json\n",
    "            random_following_followings.append(found_friend)\n",
    "        print(f\"@{random_following_screenName} follows {len(random_following_followings)} users\")\n",
    "        serializer.serialize_json(f\"random_{random_following_id}_following.json\", random_following_followings)"
   ],
   "metadata": {
    "collapsed": false,
    "pycharm": {
     "name": "#%%\n"
    }
   }
  },
  {
   "cell_type": "code",
   "execution_count": null,
   "outputs": [],
   "source": [
    "# Point #4 of the assignment: retrieve all encountered users' profile\n",
    "from datetime import datetime\n",
    "import os\n",
    "\n",
    "error_count = 0         # Keep trace of how many errors occurred during user retrieval (account not found)\n",
    "duplicate_count = 0     # Keep trace of users already encountered\n",
    "\n",
    "all_users = []\n",
    "processed_ids = []\n",
    "\n",
    "print(f\"Start at {datetime.now()}\")\n",
    "for account in accounts:\n",
    "    print(\n",
    "        f'\\n\\n*************************************\\nProcessing {account} and his friends\\n*************************************')\n",
    "    serializer = Serializer(f'{dataDir}/{account}')\n",
    "    with os.scandir(f'{dataDir}/{account}') as it:\n",
    "        for entry in it:\n",
    "            if entry.name.startswith('random') and not entry.name.endswith('profile.json'):\n",
    "                print('\\n\\n******************')\n",
    "                users_data = serializer.read_json(f\"{entry.name}\")\n",
    "                print(f'\\nProcessing {entry.name}, containing {len(users_data)} users\\n******************\\n\\n')\n",
    "                for user in users_data:\n",
    "                    if user[\"id\"] not in processed_ids:\n",
    "                        try:\n",
    "                            print(f'Processing {user[\"id\"]}, user #{len(all_users) + 1}')\n",
    "                            user_details = api.get_user(user[\"id\"])._json\n",
    "                            useful_user_details = {\n",
    "                                \"id\": user_details[\"id\"],\n",
    "                                \"name\": user_details[\"name\"],\n",
    "                                \"screen_name\": user_details[\"screen_name\"],\n",
    "                                \"description\": user_details[\"description\"],\n",
    "                                \"followers_count\": user_details[\"followers_count\"],\n",
    "                                \"friends_count\": user_details[\"friends_count\"],\n",
    "                                \"profile_image_url_https\": user_details[\"profile_image_url_https\"]\n",
    "                            }\n",
    "                            all_users.append(useful_user_details)\n",
    "                            processed_ids.append(user_details[\"id\"])\n",
    "                        except tweepy.TweepError:\n",
    "                            error_count += 1\n",
    "                            print(\"Skipped user because of error\")\n",
    "                    else:\n",
    "                        duplicate_count += 1\n",
    "serializer = Serializer(dataDir)\n",
    "print('\\n\\n*************************************\\n')\n",
    "serializer.serialize_json(\"all_users.json\", all_users)\n",
    "print('\\n*************************************\\n\\n')\n",
    "print(f'Found {error_count} errors and {duplicate_count} duplicates')"
   ],
   "metadata": {
    "collapsed": false,
    "pycharm": {
     "name": "#%%\n"
    }
   }
  },
  {
   "cell_type": "code",
   "execution_count": null,
   "outputs": [],
   "source": [
    "# As requested, before building the social network is necessary to check friendships\n",
    "\n",
    "def get_friendship(sourceid, targetid, api):\n",
    "    kind = \"\"\n",
    "\n",
    "    friendship = api.show_friendship(source_id=sourceid, target_id=targetid)\n",
    "\n",
    "    if not friendship[0].following and not friendship[0].followed_by:\n",
    "        kind = \"none\"\n",
    "    elif not friendship[0].following and friendship[0].followed_by:\n",
    "        kind = \"r_l\"\n",
    "    elif friendship[0].following and not friendship[0].followed_by:\n",
    "        kind = \"l_r\"\n",
    "    else:\n",
    "        kind = \"bi\"\n",
    "\n",
    "    return {\n",
    "        \"source_id\": sourceid,\n",
    "        \"target_id\": targetid,\n",
    "        \"friendship\": kind\n",
    "    }\n",
    "\n",
    "serializer = Serializer(dataDir)\n",
    "users = serializer.read_json(\"all_users.json\")\n",
    "edges = []\n",
    "count = 0\n",
    "for account in accounts:\n",
    "    serializer = Serializer(f'{dataDir}/{account}')\n",
    "    account_json = serializer.read_json(f\"{account}_profile.json\")\n",
    "    account_id = account_json[\"id\"]\n",
    "    for user in users:\n",
    "        if user[\"id\"] is not account_id:\n",
    "            edges.append(get_friendship(account_id, user[\"id\"], api))\n",
    "            count += 1\n",
    "            print(f\"Added friendship between {account} and {user['screen_name']} #{count}\")\n",
    "    # There'serializer also the necessity to check friendships between the random picked users at Point #2 and #3 and their followers and followings\n",
    "    with os.scandir(f'{dataDir}/{account}') as it:\n",
    "        for entry in it:\n",
    "            if entry.name.endswith('.json') and entry.name.startswith('random'):\n",
    "                fileId = int(entry.name.split(\"_\")[1])\n",
    "                json = serializer.read_json(entry.name)\n",
    "                for profile in json:\n",
    "                    edges.append(get_friendship(fileId, profile[\"id\"], api))\n",
    "                    count += 1\n",
    "                    print(f\"Added friendship between {fileId} and {profile['screen_name']} #{count}\")\n",
    "\n",
    "serializer = Serializer(dataDir)\n",
    "serializer.serialize_json(f'all_friendships.json', edges)"
   ],
   "metadata": {
    "collapsed": false,
    "pycharm": {
     "name": "#%%\n"
    }
   }
  },
  {
   "cell_type": "code",
   "execution_count": null,
   "outputs": [],
   "source": [
    "# Point #5 of the assignment: build the social network\n",
    "\n",
    "import networkx as nx\n",
    "\n",
    "# Create base diGraph\n",
    "diGraph = nx.MultiDiGraph(students=[\"Lorenzo Bellina\" \"Francesco Bombassei De Bona\", \"Andrea Cantarutti\", \"Gabriele Dominici\"])\n",
    "\n",
    "serializer = Serializer(f\"{dataDir}\")\n",
    "\n",
    "# Read users from json and add them to the diGraph\n",
    "all_nodes = serializer.read_json(\"all_users.json\")\n",
    "for profile in all_nodes:\n",
    "    diGraph.add_node(profile[\"id\"], follower_ing = 0, following_ing = 0, **profile)\n",
    "\n",
    "# Read friendships from json and add them to the diGraph\n",
    "all_edges = serializer.read_json(f\"all_friendships.json\")\n",
    "for friendship in all_edges:\n",
    "    if friendship[\"friendship\"] != \"none\":\n",
    "        if friendship[\"friendship\"] == \"bi\":\n",
    "            diGraph.add_edge(friendship[\"source_id\"], friendship[\"target_id\"], type = friendship[\"friendship\"])\n",
    "            diGraph.add_edge(friendship[\"target_id\"], friendship[\"source_id\"], type = friendship[\"friendship\"])\n",
    "            print(f'Added bidirectional edge between {friendship[\"source_id\"]} and {friendship[\"target_id\"]}')\n",
    "        elif friendship[\"friendship\"] == \"r_l\":\n",
    "            diGraph.add_edge(friendship[\"target_id\"], friendship[\"source_id\"], type = friendship[\"friendship\"])\n",
    "            print(f'Added edge from {friendship[\"target_id\"]} to {friendship[\"source_id\"]}')\n",
    "        elif friendship[\"friendship\"] == \"l_r\":\n",
    "            diGraph.add_edge(friendship[\"source_id\"], friendship[\"target_id\"], type = friendship[\"friendship\"])\n",
    "            print(f'Added edge from {friendship[\"source_id\"]} to {friendship[\"target_id\"]}')\n",
    "\n",
    "# Set new attributes for every node to represent number of followers and followings\n",
    "for degree in diGraph.in_degree:\n",
    "    diGraph.nodes[degree[0]][\"follower_ing\"] = degree[1]\n",
    "for degree in diGraph.out_degree:\n",
    "    diGraph.nodes[degree[0]][\"following_ing\"] = degree[1]\n",
    "\n",
    "# Save the diGraph\n",
    "nx.write_gpickle(diGraph, \"graph/diGraph_networkx.pkl\")"
   ],
   "metadata": {
    "collapsed": false,
    "pycharm": {
     "name": "#%%\n"
    }
   }
  },
  {
   "cell_type": "code",
   "execution_count": null,
   "outputs": [],
   "source": [
    "# Point #6 of the assignment: visualize the diGraph created before\n",
    "\n",
    "import networkx.readwrite.gpickle as pkl\n",
    "from pyvis.network import Network\n",
    "\n",
    "# Load the diGraph\n",
    "twitter = pkl.read_gpickle(\"graph/diGraph_networkx.pkl\")\n",
    "\n",
    "# Setup network\n",
    "nt = Network(height=\"100%\", width=\"100%\", bgcolor=\"#111111\", directed=True, font_color=\"white\", heading=\"Twitter Graph - Final Edition\")\n",
    "\n",
    "# Model particles physic\n",
    "nt.barnes_hut()\n",
    "\n",
    "# Convert from NetworkX\n",
    "nt.from_nx(twitter)\n",
    "\n",
    "# Retrieve nodes weight\n",
    "neighbor_map = nt.get_adj_list()\n",
    "\n",
    "profs = [\"Miccighel_\", \"mizzaro\", \"damiano10\", \"eglu81\", \"KevinRoitero\"]\n",
    "\n",
    "# Building nodes\n",
    "for node in nt.nodes:\n",
    "    info = \"nome utente: \" + node['screen_name'] + \"<br>\" + \"id: \" + str(node['id'])\n",
    "    map_length = len(neighbor_map[node[\"id\"]])\n",
    "    node[\"value\"] = map_length\n",
    "    node['title'] = info\n",
    "    node['label'] = node['name']\n",
    "    if node['screen_name'] in profs:\n",
    "        node['shape'] = 'circularImage'\n",
    "        node['image'] = node['profile_image_url_https']\n",
    "        node['mass'] = map_length\n",
    "\n",
    "# Edges color\n",
    "for edge in nt.edges:\n",
    "    if edge['to'] == 132646210:\n",
    "        edge['color'] = 'red'\n",
    "    elif edge['from'] == 132646210:\n",
    "        edge['color'] = 'red'\n",
    "    elif edge['to'] == 19659370:\n",
    "        edge['color'] = 'yellow'\n",
    "    elif edge['from'] == 19659370:\n",
    "        edge['color'] = 'yellow'\n",
    "    elif edge['to'] == 18932422:\n",
    "        edge['color'] = 'blue'\n",
    "    elif edge['from'] == 18932422:\n",
    "        edge['color'] = 'blue'\n",
    "    elif edge['to'] == 15750573:\n",
    "        edge['color'] = '#0fefff'\n",
    "    elif edge['from'] == 15750573:\n",
    "        edge['color'] = '#0fefff'\n",
    "    elif edge['to'] == 3036907250:\n",
    "        edge['color'] = '#ff0fd3'\n",
    "    elif edge['from'] == 3036907250:\n",
    "        edge['color'] = '#ff0fd3'\n",
    "    else:\n",
    "        edge['color'] = 'white'\n",
    "\n",
    "# Save and show network\n",
    "nt.show(\"diGraph/diGraph.html\")"
   ],
   "metadata": {
    "collapsed": false,
    "pycharm": {
     "name": "#%%\n"
    }
   }
  },
  {
   "cell_type": "code",
   "execution_count": null,
   "outputs": [],
   "source": [
    "# To study various properties of the graph is recommended to convert the directed graph in an undirected graph\n",
    "\n",
    "graph = diGraph.to_undirected()\n",
    "nx.write_gpickle(graph, \"graph/graph_networkx.pkl\")"
   ],
   "metadata": {
    "collapsed": false,
    "pycharm": {
     "name": "#%%\n"
    }
   }
  },
  {
   "cell_type": "code",
   "execution_count": null,
   "outputs": [],
   "source": [
    "# Point #7 of the assignment\n",
    "\n",
    "# Is graph connected?\n",
    "connected = nx.is_connected(graph)\n",
    "if connected:\n",
    "    print(\"The graph IS connected\")\n",
    "else:\n",
    "    print(\"The graph IS NOT connected\")\n",
    "\n",
    "# Is graph bipartite?\n",
    "bipartite = nx.is_bipartite(graph)\n",
    "if bipartite:\n",
    "    print(\"The graph IS bipartite\")\n",
    "else:\n",
    "    print(\"The graph IS NOT bipartite\")"
   ],
   "metadata": {
    "collapsed": false,
    "pycharm": {
     "name": "#%%\n"
    }
   }
  },
  {
   "cell_type": "code",
   "execution_count": null,
   "outputs": [],
   "source": [
    "# Point #8 of the assignment\n",
    "\n",
    "# Center\n",
    "center = nx.center(graph)\n",
    "string = \"\"\n",
    "string += (\"Center of the graph is \" + str(center) + \" ---> [\")\n",
    "for id in center:\n",
    "    string += (graph.nodes[id][\"screen_name\"] + \", \")\n",
    "string = string[0:-2]\n",
    "string += \"]\"\n",
    "print(string)\n",
    "\n",
    "# Diameter\n",
    "diameter = nx.diameter(graph)\n",
    "print(f\"Diameter = {diameter}\")\n",
    "\n",
    "# Radius\n",
    "radius = nx.radius(graph)\n",
    "print(f\"Radius = {radius}\")"
   ],
   "metadata": {
    "collapsed": false,
    "pycharm": {
     "name": "#%%\n"
    }
   }
  },
  {
   "cell_type": "code",
   "execution_count": null,
   "outputs": [],
   "source": [],
   "metadata": {
    "collapsed": false,
    "pycharm": {
     "name": "#%%\n"
    }
   }
  }
 ],
 "metadata": {
  "kernelspec": {
   "display_name": "Python 3",
   "language": "python",
   "name": "python3"
  },
  "language_info": {
   "codemirror_mode": {
    "name": "ipython",
    "version": 3
   },
   "file_extension": ".py",
   "mimetype": "text/x-python",
   "name": "python",
   "nbconvert_exporter": "python",
   "pygments_lexer": "ipython3",
   "version": "3.7.9"
  }
 },
 "nbformat": 4,
 "nbformat_minor": 4
}