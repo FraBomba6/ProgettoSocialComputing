{
 "cells": [
  {
   "cell_type": "code",
   "execution_count": null,
   "outputs": [],
   "source": [
    "# Setup credentials\n",
    "\n",
    "import keys\n",
    "\n",
    "consumer_key = keys.key\n",
    "consumer_secret = keys.secret\n",
    "bearer_token = keys.bearer\n",
    "access_token = keys.access_token\n",
    "access_secret = keys.access_secret"
   ],
   "metadata": {
    "collapsed": false,
    "pycharm": {
     "name": "#%%\n"
    }
   }
  },
  {
   "cell_type": "code",
   "execution_count": null,
   "outputs": [],
   "source": [
    "# Authentication on Twitter API\n",
    "\n",
    "import tweepy\n",
    "\n",
    "auth = tweepy.OAuthHandler(consumer_key, consumer_secret)\n",
    "auth.set_access_token(access_token, access_secret)\n",
    "api = tweepy.API(auth, wait_on_rate_limit=True, wait_on_rate_limit_notify=True)\n",
    "if api.verify_credentials:\n",
    "    print(\"Auth completed successfuly!\")\n",
    "else:\n",
    "    print(\"Issue occoured during authentication\")"
   ],
   "metadata": {
    "collapsed": false,
    "pycharm": {
     "name": "#%%\n"
    }
   }
  },
  {
   "cell_type": "code",
   "execution_count": null,
   "outputs": [],
   "source": [
    "# Import serializer from an external module\n",
    "\n",
    "from serializer import Serializer\n",
    "\n",
    "# Define data directory\n",
    "dataDir = \"data\""
   ],
   "metadata": {
    "collapsed": false,
    "pycharm": {
     "name": "#%%\n"
    }
   }
  },
  {
   "cell_type": "code",
   "execution_count": null,
   "metadata": {
    "collapsed": true,
    "jupyter": {
     "outputs_hidden": true
    },
    "pycharm": {
     "name": "#%%\n"
    }
   },
   "outputs": [],
   "source": [
    "# Get starting users info\n",
    "accounts = [\"mizzaro\", \"damiano10\", \"Miccighel_\", \"eglu81\", \"KevinRoitero\"]\n",
    "for account in accounts:\n",
    "    serializer = Serializer(f'{dataDir}/{account}')\n",
    "    profile = api.get_user(account)\n",
    "    profile_json = profile._json\n",
    "    serializer.serialize_json(f'{account}_profile.json', profile_json)"
   ]
  },
  {
   "cell_type": "code",
   "execution_count": null,
   "outputs": [],
   "source": [
    "# Point #1 of the assignment: retrieve starting users followers and followings\n",
    "\n",
    "for account in accounts:\n",
    "    print(f\"Processing @{account}\")\n",
    "    serializer = Serializer(f'{dataDir}/{account}')\n",
    "\n",
    "### FOLLOWERS\n",
    "\n",
    "    account_followers = []\n",
    "    for item in tweepy.Cursor(\n",
    "            api.followers,\n",
    "            screen_name=account,\n",
    "            skip_status=True,\n",
    "            include_user_entities=False\n",
    "    ).items():\n",
    "        found_follower = item._json\n",
    "        account_followers.append(found_follower)\n",
    "\n",
    "    print(f\"Found {len(account_followers)} followers for @{account}\")\n",
    "    serializer.serialize_json(f\"{account}_follower.json\", account_followers)\n",
    "\n",
    "### FOLLOWINGS\n",
    "\n",
    "    account_followings = []\n",
    "    for item in tweepy.Cursor(\n",
    "            api.friends,\n",
    "            screen_name=account,\n",
    "            skip_status=True,\n",
    "            include_user_entities=False\n",
    "    ).items():\n",
    "        found_followings = item._json\n",
    "        account_followings.append(found_followings)\n",
    "\n",
    "    print(f\"@{account} follows {len(account_followings)} users\")\n",
    "    serializer.serialize_json(f\"{account}_following.json\", account_followings)"
   ],
   "metadata": {
    "collapsed": false,
    "pycharm": {
     "name": "#%%\n"
    }
   }
  },
  {
   "cell_type": "code",
   "execution_count": null,
   "outputs": [],
   "source": [
    "# Points #2 and #3 of the assignment: pick 5 random followers of the starting users,\n",
    "# retrieve 10 followers each, pick 5 random followings of the starting users\n",
    "# and retrieve 10 followings each\n",
    "import random\n",
    "\n",
    "for account in accounts:\n",
    "    serializer = Serializer(f'{dataDir}/{account}')\n",
    "    json = serializer.read_json(f\"{account}_follower.json\")\n",
    "    for count in range(0, 5):\n",
    "        random_follower = random.choice(json)\n",
    "        random_follower_screenName = random_follower[\"screen_name\"]\n",
    "        random_follower_id = random_follower[\"id\"]\n",
    "        random_follower_followers = []\n",
    "        for item in tweepy.Cursor(\n",
    "                api.followers,\n",
    "                screen_name=random_follower_screenName,\n",
    "                skip_status=True,\n",
    "                include_user_entities=False\n",
    "        ).items(10):\n",
    "            found_follower = item._json\n",
    "            random_follower_followers.append(found_follower)\n",
    "        print(f\"Found {len(random_follower_followers)} followers for @{random_follower_screenName}\")\n",
    "        serializer.serialize_json(f\"random_{random_follower_id}_follower.json\", random_follower_followers)\n",
    "\n",
    "    json = serializer.read_json(f\"{account}_following.json\")\n",
    "    for count in range(0, 5):\n",
    "        random_following = random.choice(json)\n",
    "        random_following_screenName = random_following[\"screen_name\"]\n",
    "        random_following_id = random_following[\"id\"]\n",
    "        random_following_followings = []\n",
    "        for item in tweepy.Cursor(\n",
    "                api.friends,\n",
    "                screen_name=random_following_screenName,\n",
    "                skip_status=True,\n",
    "                include_user_entities=False\n",
    "        ).items(10):\n",
    "            found_friend = item._json\n",
    "            random_following_followings.append(found_friend)\n",
    "        print(f\"@{random_following_screenName} follows {len(random_following_followings)} users\")\n",
    "        serializer.serialize_json(f\"random_{random_following_id}_following.json\", random_following_followings)"
   ],
   "metadata": {
    "collapsed": false,
    "pycharm": {
     "name": "#%%\n"
    }
   }
  },
  {
   "cell_type": "code",
   "execution_count": null,
   "outputs": [],
   "source": [
    "# Point #4 of the assignment: retrieve all encountered users' profile\n",
    "from datetime import datetime\n",
    "import os\n",
    "\n",
    "error_count = 0         # Keep trace of how many errors occurred during user retrieval (account not found)\n",
    "duplicate_count = 0     # Keep trace of users already encountered\n",
    "\n",
    "all_users = []\n",
    "processed_ids = []\n",
    "\n",
    "print(f\"Start at {datetime.now()}\")\n",
    "for account in accounts:\n",
    "    print(\n",
    "        f'\\n\\n*************************************\\nProcessing {account} and his friends\\n*************************************')\n",
    "    serializer = Serializer(f'{dataDir}/{account}')\n",
    "    with os.scandir(f'{dataDir}/{account}') as it:\n",
    "        for entry in it:\n",
    "            if entry.name.startswith('random') and not entry.name.endswith('profile.json'):\n",
    "                print('\\n\\n******************')\n",
    "                users_data = serializer.read_json(f\"{entry.name}\")\n",
    "                print(f'\\nProcessing {entry.name}, containing {len(users_data)} users\\n******************\\n\\n')\n",
    "                for user in users_data:\n",
    "                    if user[\"id\"] not in processed_ids:\n",
    "                        try:\n",
    "                            print(f'Processing {user[\"id\"]}, user #{len(all_users) + 1}')\n",
    "                            user_details = api.get_user(user[\"id\"])._json\n",
    "                            useful_user_details = {\n",
    "                                \"id\": user_details[\"id\"],\n",
    "                                \"name\": user_details[\"name\"],\n",
    "                                \"screen_name\": user_details[\"screen_name\"],\n",
    "                                \"description\": user_details[\"description\"],\n",
    "                                \"followers_count\": user_details[\"followers_count\"],\n",
    "                                \"friends_count\": user_details[\"friends_count\"],\n",
    "                                \"profile_image_url_https\": user_details[\"profile_image_url_https\"]\n",
    "                            }\n",
    "                            all_users.append(useful_user_details)\n",
    "                            processed_ids.append(user_details[\"id\"])\n",
    "                        except tweepy.TweepError:\n",
    "                            error_count += 1\n",
    "                            print(\"Skipped user because of error\")\n",
    "                    else:\n",
    "                        duplicate_count += 1\n",
    "serializer = Serializer(dataDir)\n",
    "print('\\n\\n*************************************\\n')\n",
    "serializer.serialize_json(\"all_users.json\", all_users)\n",
    "print('\\n*************************************\\n\\n')\n",
    "print(f'Found {error_count} errors and {duplicate_count} duplicates')"
   ],
   "metadata": {
    "collapsed": false,
    "pycharm": {
     "name": "#%%\n"
    }
   }
  },
  {
   "cell_type": "code",
   "execution_count": null,
   "outputs": [],
   "source": [
    "# As requested, before building the social network is necessary to check friendships\n",
    "\n",
    "def get_friendship(sourceid, targetid, api):\n",
    "    kind = \"\"\n",
    "\n",
    "    friendship = api.show_friendship(source_id=sourceid, target_id=targetid)\n",
    "\n",
    "    if not friendship[0].following and not friendship[0].followed_by:\n",
    "        kind = \"none\"\n",
    "    elif not friendship[0].following and friendship[0].followed_by:\n",
    "        kind = \"r_l\"\n",
    "    elif friendship[0].following and not friendship[0].followed_by:\n",
    "        kind = \"l_r\"\n",
    "    else:\n",
    "        kind = \"bi\"\n",
    "\n",
    "    return {\n",
    "        \"source_id\": sourceid,\n",
    "        \"target_id\": targetid,\n",
    "        \"friendship\": kind\n",
    "    }\n",
    "\n",
    "serializer = Serializer(dataDir)\n",
    "users = serializer.read_json(\"all_users.json\")\n",
    "edges = []\n",
    "count = 0\n",
    "for account in accounts:\n",
    "    serializer = Serializer(f'{dataDir}/{account}')\n",
    "    account_json = serializer.read_json(f\"{account}_profile.json\")\n",
    "    account_id = account_json[\"id\"]\n",
    "    for user in users:\n",
    "        if user[\"id\"] is not account_id:\n",
    "            edges.append(get_friendship(account_id, user[\"id\"], api))\n",
    "            count += 1\n",
    "            print(f\"Added friendship between {account} and {user['screen_name']} #{count}\")\n",
    "    # There'serializer also the necessity to check friendships between the random picked users at Point #2 and #3 and their followers and followings\n",
    "    with os.scandir(f'{dataDir}/{account}') as it:\n",
    "        for entry in it:\n",
    "            if entry.name.endswith('.json') and entry.name.startswith('random'):\n",
    "                fileId = int(entry.name.split(\"_\")[1])\n",
    "                json = serializer.read_json(entry.name)\n",
    "                for profile in json:\n",
    "                    edges.append(get_friendship(fileId, profile[\"id\"], api))\n",
    "                    count += 1\n",
    "                    print(f\"Added friendship between {fileId} and {profile['screen_name']} #{count}\")\n",
    "\n",
    "serializer = Serializer(dataDir)\n",
    "serializer.serialize_json(f'all_friendships.json', edges)"
   ],
   "metadata": {
    "collapsed": false,
    "pycharm": {
     "name": "#%%\n"
    }
   }
  },
  {
   "cell_type": "code",
   "execution_count": null,
   "outputs": [],
   "source": [
    "# Point #5 of the assignment: build the social network\n",
    "def buildFromJson(path, nodeJson, edgeJson):\n",
    "    import networkx as nx\n",
    "    from serializer import  Serializer\n",
    "\n",
    "    # Create base diGraph\n",
    "    diGraph = nx.DiGraph(students=[\"Lorenzo Bellina\" \"Francesco Bombassei De Bona\", \"Andrea Cantarutti\", \"Gabriele Dominici\"])\n",
    "\n",
    "    serializer = Serializer(path)\n",
    "\n",
    "    # Read users from json and add them to the diGraph\n",
    "    all_nodes = serializer.read_json(nodeJson)\n",
    "    for profile in all_nodes:\n",
    "        diGraph.add_node(profile[\"id\"], follower_ing = 0, following_ing = 0, **profile)\n",
    "\n",
    "    # Read friendships from json and add them to the diGraph\n",
    "    all_edges = serializer.read_json(edgeJson)\n",
    "    for friendship in all_edges:\n",
    "        if friendship[\"friendship\"] != \"none\":\n",
    "            if friendship[\"friendship\"] == \"bi\":\n",
    "                diGraph.add_edge(friendship[\"source_id\"], friendship[\"target_id\"], type = friendship[\"friendship\"])\n",
    "                diGraph.add_edge(friendship[\"target_id\"], friendship[\"source_id\"], type = friendship[\"friendship\"])\n",
    "                print(f'Added bidirectional edge between {friendship[\"source_id\"]} and {friendship[\"target_id\"]}')\n",
    "            elif friendship[\"friendship\"] == \"r_l\":\n",
    "                diGraph.add_edge(friendship[\"target_id\"], friendship[\"source_id\"], type = friendship[\"friendship\"])\n",
    "                print(f'Added edge from {friendship[\"target_id\"]} to {friendship[\"source_id\"]}')\n",
    "            elif friendship[\"friendship\"] == \"l_r\":\n",
    "                diGraph.add_edge(friendship[\"source_id\"], friendship[\"target_id\"], type = friendship[\"friendship\"])\n",
    "                print(f'Added edge from {friendship[\"source_id\"]} to {friendship[\"target_id\"]}')\n",
    "\n",
    "    # Set new attributes for every node to represent number of followers and followings\n",
    "    for degree in diGraph.in_degree:\n",
    "        diGraph.nodes[degree[0]][\"follower_ing\"] = degree[1]\n",
    "    for degree in diGraph.out_degree:\n",
    "        diGraph.nodes[degree[0]][\"following_ing\"] = degree[1]\n",
    "\n",
    "    return diGraph\n",
    "\n",
    "import networkx as nx\n",
    "diGraph = buildFromJson('data', 'all_users.json', 'all_friendships.json')\n",
    "# Save the diGraph\n",
    "nx.write_gpickle(diGraph, \"graph/diGraph_networkx.pkl\")"
   ],
   "metadata": {
    "collapsed": false,
    "pycharm": {
     "name": "#%%\n"
    }
   }
  },
  {
   "cell_type": "code",
   "execution_count": null,
   "outputs": [],
   "source": [
    "# Point #6 of the assignment: visualize the diGraph created before\n",
    "def plotGraph(pklPath):\n",
    "    import networkx.readwrite.gpickle as pkl\n",
    "    from pyvis.network import Network\n",
    "    import random\n",
    "    r = lambda : random.randint(0, 255)\n",
    "\n",
    "    # Load the diGraph\n",
    "    twitter = pkl.read_gpickle(pklPath)\n",
    "\n",
    "    # Setup network\n",
    "    nt = Network(height=\"100%\", width=\"100%\", bgcolor=\"#111111\", directed=True, font_color=\"white\", heading=\"Twitter Graph - Final Edition\")\n",
    "\n",
    "    # Model particles physic\n",
    "    nt.barnes_hut()\n",
    "\n",
    "    # Convert from NetworkX\n",
    "    nt.from_nx(twitter)\n",
    "\n",
    "    # Retrieve nodes weight\n",
    "    neighbor_map = nt.get_adj_list()\n",
    "\n",
    "    profs = [\"Miccighel_\", \"mizzaro\", \"damiano10\", \"eglu81\", \"KevinRoitero\"]\n",
    "\n",
    "    colors = {}\n",
    "\n",
    "    # Building nodes\n",
    "    for node in nt.nodes:\n",
    "        info = \"nome utente: \" + node['screen_name'] + \"<br>\" + \"id: \" + str(node['id'])\n",
    "        map_length = len(neighbor_map[node[\"id\"]])\n",
    "        node['title'] = info\n",
    "        node['label'] = node['name']\n",
    "        color = '#%02X%02X%02X' % (r(),r(),r())\n",
    "        colors[node[\"id\"]] = color\n",
    "        if node['screen_name'] in profs:\n",
    "            node['shape'] = 'circularImage'\n",
    "            node['image'] = node['profile_image_url_https']\n",
    "            node['mass'] = map_length\n",
    "        else:\n",
    "            node['color'] = color\n",
    "        node['size'] = map_length\n",
    "\n",
    "\n",
    "    # Edges color\n",
    "    for edge in nt.edges:\n",
    "        color = colors[edge['from']]\n",
    "        edge['color'] = color\n",
    "\n",
    "    return nt\n",
    "\n",
    "nt = plotGraph(\"graph/diGraph_networkx.pkl\")\n",
    "# Save and show network\n",
    "nt.save_graph(\"graph/diGraph.html\")"
   ],
   "metadata": {
    "collapsed": false,
    "pycharm": {
     "name": "#%%\n"
    }
   }
  },
  {
   "cell_type": "code",
   "execution_count": null,
   "outputs": [],
   "source": [
    "# To study various properties of the graph is recommended to convert the directed graph in an undirected graph\n",
    "\n",
    "graph = diGraph.to_undirected()\n",
    "nx.write_gpickle(graph, \"graph/graph_networkx.pkl\")\n",
    "nt.show(\"graph/graph.html\")"
   ],
   "metadata": {
    "collapsed": false,
    "pycharm": {
     "name": "#%%\n"
    }
   }
  },
  {
   "cell_type": "code",
   "execution_count": null,
   "outputs": [],
   "source": [
    "# Point #7 of the assignment\n",
    "\n",
    "# Is graph connected?\n",
    "connected = nx.is_connected(graph)\n",
    "if connected:\n",
    "    print(\"The graph IS connected\")\n",
    "else:\n",
    "    print(\"The graph IS NOT connected\")\n",
    "\n",
    "# Is graph bipartite?\n",
    "bipartite = nx.is_bipartite(graph)\n",
    "if bipartite:\n",
    "    print(\"The graph IS bipartite\")\n",
    "else:\n",
    "    print(\"The graph IS NOT bipartite\")"
   ],
   "metadata": {
    "collapsed": false,
    "pycharm": {
     "name": "#%%\n"
    }
   }
  },
  {
   "cell_type": "code",
   "execution_count": null,
   "outputs": [],
   "source": [
    "# Point #8 of the assignment: find center, diameter and radius\n",
    "\n",
    "# Center\n",
    "center = nx.center(graph)\n",
    "string = \"\"\n",
    "string += (\"Center of the graph is \" + str(center) + \" ---> [\")\n",
    "for id in center:\n",
    "    string += (graph.nodes[id][\"screen_name\"] + \", \")\n",
    "string = string[0:-2]\n",
    "string += \"]\"\n",
    "print(string)\n",
    "\n",
    "# Diameter\n",
    "diameter = nx.diameter(graph)\n",
    "print(f\"Diameter = {diameter}\")\n",
    "\n",
    "# Radius\n",
    "radius = nx.radius(graph)\n",
    "print(f\"Radius = {radius}\")"
   ],
   "metadata": {
    "collapsed": false,
    "pycharm": {
     "name": "#%%\n"
    }
   }
  },
  {
   "cell_type": "code",
   "execution_count": null,
   "outputs": [],
   "source": [
    "# Point #9 of the assignment: find various centrality measures\n",
    "\n",
    "# !! The following properties will be printed only if NOT equals from zero !!\n",
    "\n",
    "# It's possible to calculate some centrality values on the undirected graph\n",
    "bt_centrality = nx.betweenness_centrality(graph)\n",
    "print(f\"Betweenness centrality:\")\n",
    "for key, value in bt_centrality.items():\n",
    "    if value != 0:\n",
    "        print(f\"\\t{key}: {value}\")\n",
    "\n",
    "cl_centrality = nx.closeness_centrality(graph)\n",
    "print(f\"\\n\\nCloseness centrality:\")\n",
    "for key, value in cl_centrality.items():\n",
    "    if value != 0:\n",
    "        print(f\"\\t{key}: {value}\")\n",
    "\n",
    "dg_centrality = nx.degree_centrality(graph)\n",
    "print(f\"\\n\\nDegree centrality:\")\n",
    "for key, value in dg_centrality.items():\n",
    "    if value != 0:\n",
    "        print(f\"\\t{key}: {value}\")\n",
    "\n",
    "# Passing to the previously created directed graph is possible to calculate some more properties\n",
    "in_dg_centrality = nx.in_degree_centrality(diGraph)\n",
    "print(f\"\\n\\nIn-degree centrality:\")\n",
    "for key, value in in_dg_centrality.items():\n",
    "    if value != 0:\n",
    "        print(f\"\\t{key}: {value}\")\n",
    "\n",
    "out_dg_centrality = nx.out_degree_centrality(diGraph)\n",
    "print(f\"\\n\\nOut-degree centrality:\")\n",
    "for key, value in out_dg_centrality.items():\n",
    "    if value != 0:\n",
    "        print(f\"\\t{key}: {value}\")\n",
    "\n",
    "pageRank = nx.pagerank(diGraph)\n",
    "print(f\"\\n\\nPage Rank:\")\n",
    "for key, value in pageRank.items():\n",
    "    if value != 0:\n",
    "        print(f\"\\t{key}: {value}\")\n",
    "\n",
    "hits = nx.hits(diGraph, max_iter=500)\n",
    "print(\"HITS:\")\n",
    "for node, authValue in hits[0].items():\n",
    "    print(f\"\\n\\t{node}\\n\\t\\tauth = {authValue}\\n\\t\\t hub = {hits[1][node]}\")\n"
   ],
   "metadata": {
    "collapsed": false,
    "pycharm": {
     "name": "#%%\n"
    }
   }
  },
  {
   "cell_type": "code",
   "execution_count": 1,
   "outputs": [],
   "source": [
    "import networkx as nx\n",
    "import networkx.readwrite.gpickle as pkl\n",
    "# To improve our results we decided to enrich the starting graph\n",
    "#betterGraph = buildFromJson('data', 'all_users.json', 'complete_friendships.json')\n",
    "betterGraph = pkl.read_gpickle(\"graph/better_networkx.pkl\")\n",
    "# nx.write_gpickle(betterGraph, \"graph/better_networkx.pkl\")\n",
    "# nt = plotGraph(\"graph/better_networkx.pkl\")\n",
    "# nt.save_graph(\"graph/betterGraph.html\")"
   ],
   "metadata": {
    "collapsed": false,
    "pycharm": {
     "name": "#%%\n"
    }
   }
  },
  {
   "cell_type": "code",
   "execution_count": 4,
   "outputs": [
    {
     "name": "stdout",
     "output_type": "stream",
     "text": [
      "The graph IS connected\n",
      "The graph IS NOT bipartite\n",
      "Center of the graph is [93781753, 132646210, 3036907250, 52059998, 1556357336, 262236415, 813286, 19659370, 44196397, 571202103, 15750573, 15492359] ---> [rmit_csit, damiano10, KevinRoitero, marcopavan83, martysantarossa, Barbe_z, BarackObama, eglu81, elonmusk, Medium, Miccighel_, TEDTalks]\n",
      "Diameter = 5\n",
      "Radius = 3\n"
     ]
    }
   ],
   "source": [
    "# Then, we decided to recalculate the previous properties of the graph\n",
    "# Is graph connected?\n",
    "connected = nx.is_connected(betterGraph.to_undirected())\n",
    "if connected:\n",
    "    print(\"The graph IS connected\")\n",
    "else:\n",
    "    print(\"The graph IS NOT connected\")\n",
    "\n",
    "# Is graph bipartite?\n",
    "bipartite = nx.is_bipartite(betterGraph.to_undirected())\n",
    "if bipartite:\n",
    "    print(\"The graph IS bipartite\")\n",
    "else:\n",
    "    print(\"The graph IS NOT bipartite\")\n",
    "\n",
    "undiBetterGraph = betterGraph.to_undirected()\n",
    "\n",
    "# Center\n",
    "center = nx.center(undiBetterGraph)\n",
    "string = \"\"\n",
    "string += (\"Center of the graph is \" + str(center) + \" ---> [\")\n",
    "for id in center:\n",
    "    string += (undiBetterGraph.nodes[id][\"screen_name\"] + \", \")\n",
    "string = string[0:-2]\n",
    "string += \"]\"\n",
    "print(string)\n",
    "\n",
    "# Diameter\n",
    "diameter = nx.diameter(undiBetterGraph)\n",
    "print(f\"Diameter = {diameter}\")\n",
    "\n",
    "# Radius\n",
    "radius = nx.radius(undiBetterGraph)\n",
    "print(f\"Radius = {radius}\")"
   ],
   "metadata": {
    "collapsed": false,
    "pycharm": {
     "name": "#%%\n"
    }
   }
  },
  {
   "cell_type": "code",
   "execution_count": null,
   "outputs": [],
   "source": [
    "# It's possible to calculate some centrality values on the undirected graph\n",
    "bt_centrality = nx.betweenness_centrality(undiBetterGraph)\n",
    "print(f\"Betweenness centrality:\")\n",
    "for key, value in bt_centrality.items():\n",
    "    if value != 0:\n",
    "        print(f\"\\t{key}: {value}\")\n",
    "\n",
    "cl_centrality = nx.closeness_centrality(undiBetterGraph)\n",
    "print(f\"\\n\\nCloseness centrality:\")\n",
    "for key, value in cl_centrality.items():\n",
    "    if value != 0:\n",
    "        print(f\"\\t{key}: {value}\")\n",
    "\n",
    "dg_centrality = nx.degree_centrality(undiBetterGraph)\n",
    "print(f\"\\n\\nDegree centrality:\")\n",
    "for key, value in dg_centrality.items():\n",
    "    if value != 0:\n",
    "        print(f\"\\t{key}: {value}\")\n",
    "\n",
    "# Passing to the previously created directed graph is possible to calculate some more properties\n",
    "in_dg_centrality = nx.in_degree_centrality(betterGraph)\n",
    "print(f\"\\n\\nIn-degree centrality:\")\n",
    "for key, value in in_dg_centrality.items():\n",
    "    if value != 0:\n",
    "        print(f\"\\t{key}: {value}\")\n",
    "\n",
    "out_dg_centrality = nx.out_degree_centrality(betterGraph)\n",
    "print(f\"\\n\\nOut-degree centrality:\")\n",
    "for key, value in out_dg_centrality.items():\n",
    "    if value != 0:\n",
    "        print(f\"\\t{key}: {value}\")\n",
    "\n",
    "pageRank = nx.pagerank(betterGraph)\n",
    "print(f\"\\n\\nPage Rank:\")\n",
    "for key, value in pageRank.items():\n",
    "    if value != 0:\n",
    "        print(f\"\\t{key}: {value}\")\n",
    "\n",
    "hits = nx.hits(betterGraph, max_iter=500)\n",
    "print(\"HITS:\")\n",
    "for node, authValue in hits[0].items():\n",
    "    print(f\"\\n\\t{node}\\n\\t\\tauth = {authValue}\\n\\t\\t hub = {hits[1][node]}\")"
   ],
   "metadata": {
    "collapsed": false,
    "pycharm": {
     "name": "#%%\n"
    }
   }
  },
  {
   "cell_type": "code",
   "execution_count": 9,
   "outputs": [
    {
     "ename": "TypeError",
     "evalue": "draw_networkx_edges() missing 1 required positional argument: 'pos'",
     "output_type": "error",
     "traceback": [
      "\u001B[1;31m---------------------------------------------------------------------------\u001B[0m",
      "\u001B[1;31mTypeError\u001B[0m                                 Traceback (most recent call last)",
      "\u001B[1;32m<ipython-input-9-e74a3f310a43>\u001B[0m in \u001B[0;36m<module>\u001B[1;34m\u001B[0m\n\u001B[0;32m     15\u001B[0m         \u001B[0mcolor_ed\u001B[0m\u001B[1;33m.\u001B[0m\u001B[0mappend\u001B[0m\u001B[1;33m(\u001B[0m\u001B[1;34m'black'\u001B[0m\u001B[1;33m)\u001B[0m\u001B[1;33m\u001B[0m\u001B[1;33m\u001B[0m\u001B[0m\n\u001B[0;32m     16\u001B[0m \u001B[1;33m\u001B[0m\u001B[0m\n\u001B[1;32m---> 17\u001B[1;33m \u001B[0mnx\u001B[0m\u001B[1;33m.\u001B[0m\u001B[0mdraw_networkx_edges\u001B[0m\u001B[1;33m(\u001B[0m\u001B[0md10_reduced_graph\u001B[0m\u001B[1;33m,\u001B[0m \u001B[0mwidth\u001B[0m\u001B[1;33m=\u001B[0m\u001B[1;36m0.1\u001B[0m\u001B[1;33m,\u001B[0m \u001B[0malpha\u001B[0m\u001B[1;33m=\u001B[0m\u001B[1;36m0.5\u001B[0m\u001B[1;33m,\u001B[0m \u001B[0medge_color\u001B[0m\u001B[1;33m=\u001B[0m\u001B[0mcolor_ed\u001B[0m\u001B[1;33m)\u001B[0m\u001B[1;33m\u001B[0m\u001B[1;33m\u001B[0m\u001B[0m\n\u001B[0m",
      "\u001B[1;31mTypeError\u001B[0m: draw_networkx_edges() missing 1 required positional argument: 'pos'"
     ]
    }
   ],
   "source": [
    "diGraph = pkl.read_gpickle(\"graph/diGraph_networkx.pkl\")\n",
    "d10_reduced_graph = nx.ego_graph(diGraph, 132646210 , radius=1, center=True)\n",
    "pos = nx.spring_layout(d10_reduced_graph)  # positions for all nodes\n",
    "\n",
    "color_ed=[]\n",
    "\n",
    "for items in d10_reduced_graph.edges:\n",
    "    if items[1] == 132646210 or items[0] == 132646210:\n",
    "        if d10_reduced_graph[items[0]][items[1]]['type'] == 'bi':\n",
    "            color_ed.append('purple')\n",
    "        elif d10_reduced_graph[items[0]][items[1]]['type'] == 'r_l':\n",
    "            color_ed.append('red')\n",
    "        else:\n",
    "            color_ed.append('green')\n",
    "    else:\n",
    "        color_ed.append('black')\n",
    "\n",
    "nx.draw_networkx_edges(d10_reduced_graph, pos, width=0.1, alpha=0.5, edge_color=color_ed)"
   ],
   "metadata": {
    "collapsed": false,
    "pycharm": {
     "name": "#%%\n"
    }
   }
  }
 ],
 "metadata": {
  "kernelspec": {
   "display_name": "Python 3",
   "language": "python",
   "name": "python3"
  },
  "language_info": {
   "codemirror_mode": {
    "name": "ipython",
    "version": 3
   },
   "file_extension": ".py",
   "mimetype": "text/x-python",
   "name": "python",
   "nbconvert_exporter": "python",
   "pygments_lexer": "ipython3",
   "version": "3.7.9"
  }
 },
 "nbformat": 4,
 "nbformat_minor": 4
}