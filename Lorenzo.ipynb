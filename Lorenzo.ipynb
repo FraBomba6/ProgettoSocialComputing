{
 "cells": [
  {
   "cell_type": "code",
   "execution_count": 1,
   "metadata": {},
   "outputs": [],
   "source": [
    "import os \n",
    "import json\n",
    "import pprint\n",
    "import tweepy\n",
    "import networkx.readwrite.gpickle as pkl"
   ]
  },
  {
   "cell_type": "code",
   "execution_count": 2,
   "metadata": {},
   "outputs": [],
   "source": [
    "#Twitter API credentials\n",
    "api_key = \"qb57kzcuxez3RxyTaUEzHdzMS\"\n",
    "api_secret = \"ntm3qGSazr1suCQKTYinoTxJciChIvHQs9nPTHDWuwLPd8vVSc\"\n",
    "access_token = \"15750573-5Fk8qmqDhBXCqfYM7GnNLBUvGgOofb7mtywZs4OIC\"\n",
    "access_secret = \"9w0CXnrZbye6Pq6jlVAgVU3IlAOVmGPSsvyZGj2Ki6XBW\"\n",
    "bearer_token = \"AAAAAAAAAAAAAAAAAAAAALjZJQEAAAAAzXmqQ3tOay4wkGLRxk0OXkrCi%2Bo%3DiJEe5N5wAbEIEXJVZVktWfl0YGRAQKcvdRfzzWKZGawlzObzvB\""
   ]
  },
  {
   "cell_type": "code",
   "execution_count": 3,
   "metadata": {},
   "outputs": [
    {
     "name": "stdout",
     "output_type": "stream",
     "text": [
      "Authentication completed successfully!\n"
     ]
    }
   ],
   "source": [
    "auth = tweepy.OAuthHandler(api_key, api_secret)\n",
    "auth.set_access_token(access_token, access_secret)\n",
    "api = tweepy.API(auth, wait_on_rate_limit=True, wait_on_rate_limit_notify=True)\n",
    "if(api.verify_credentials):\n",
    "    print ('Authentication completed successfully!')"
   ]
  },
  {
   "cell_type": "code",
   "execution_count": 4,
   "metadata": {},
   "outputs": [],
   "source": [
    "users = [\"Miccighel_\"]\n",
    "\n",
    "for user in users:\n",
    "    print(f\"Processing @{user}\")\n",
    "\n",
    "    user_followers = []\n",
    "\n",
    "    for item in tweepy.Cursor(\n",
    "            api.followers,\n",
    "            screen_name=user,\n",
    "            skip_status=True,\n",
    "            include_user_entities=False\n",
    "    ).items():\n",
    "        user_followers.append(item._json)\n",
    "\n",
    "    print(f\"Found {len(user_followers)} followers for @{user}\")\n",
    "    s.serialize_json(f\"{user}_following.json\", user_followers)"
   ]
  },
  {
   "cell_type": "code",
   "execution_count": 5,
   "metadata": {},
   "outputs": [],
   "source": [
    "#users = [\"Miccighel_\"]\n",
    "\n",
    "#for user in users:\n",
    " #   print(f\"Processing @{user}\")\n",
    "\n",
    "  #  user_friends = []\n",
    "\n",
    "   # for item in tweepy.Cursor(\n",
    "    #        api.friends,\n",
    "     #       screen_name=user,\n",
    "      #      skip_status=True,\n",
    "       #     include_user_entities=False\n",
    "    #).items():\n",
    "     #   user_friends.append(item._json)\n",
    "\n",
    "    #print(f\"Found {len(user_friends)} friends for @{user}\")\n",
    "    #s.serialize_json(f\"{user}_following.json\", user_following)"
   ]
  },
  {
   "cell_type": "code",
   "execution_count": 6,
   "metadata": {},
   "outputs": [],
   "source": [
    "import random\n",
    "users = [\"Miccighel_\"]\n",
    "for user in users:\n",
    "    serializer = Serializer(f'data/{user}')\n",
    "    json = serializer.read_json(f\"{user}_followers.json\")\n",
    "    for count in range(0, 5):\n",
    "        random_follower = random.choice(json)\n",
    "        random_follower_screenName = random_follower[\"screen_name\"]\n",
    "        random_follower_id = random_follower[\"id\"]\n",
    "        random_follower_followers = []\n",
    "        for item in tweepy.Cursor(\n",
    "                api.followers,\n",
    "                screen_name=random_follower_screenName,\n",
    "                skip_status=True,\n",
    "                include_user_entities=False\n",
    "        ).items(10):\n",
    "            found_follower = item._json\n",
    "            random_follower_followers.append(found_follower)\n",
    "        print(f\"Found {len(random_follower_followers)} followers for @{random_follower_screenName}\")\n",
    "        serializer.serialize_json(f\"random_{random_follower_id}_follower.json\", random_follower_followers)\n",
    "\n",
    "    json = serializer.read_json(f\"{user}_following.json\")\n",
    "    for count in range(0, 5):\n",
    "        random_friend = random.choice(json)\n",
    "        random_friend_screenName = random_friend[\"screen_name\"]\n",
    "        random_friend_id = random_friend[\"id\"]\n",
    "        random_friend_friends = []\n",
    "        for item in tweepy.Cursor(\n",
    "                api.friends,\n",
    "                screen_name=random_friend_screenName,\n",
    "                skip_status=True,\n",
    "                include_user_entities=False\n",
    "        ).items(10):\n",
    "            found_friend = item._json\n",
    "            random_friend_friends.append(found_friend)\n",
    "        print(f\"@{random_friend} follows {len(random_friend_friends)} users\")\n",
    "        serializer.serialize_json(f\"random_{random_friend_id}_following.json\", random_friend_friends)"
   ]
  },
  {
   "cell_type": "code",
   "execution_count": 9,
   "metadata": {},
   "outputs": [],
   "source": [
    "users = [\"mizzaro\"]\n",
    "\n",
    "for user in users:\n",
    "    print(f\"Processing @{user}\")\n",
    "\n",
    "    user_followers = []\n",
    "\n",
    "    for item in tweepy.Cursor(\n",
    "            api.friends,\n",
    "            screen_name=user,\n",
    "            skip_status=True,\n",
    "            include_user_entities=False\n",
    "    ).items():\n",
    "        user_followers.append(item._json)\n",
    "\n",
    "    print(f\"Found {len(user_followers)} following for @{user}\")\n",
    "    s.serialize_json(f\"{user}/{user}_following.json\", user_followers)"
   ]
  },
  {
   "cell_type": "code",
   "execution_count": 14,
   "metadata": {},
   "outputs": [
    {
     "name": "stdout",
     "output_type": "stream",
     "text": [
      "3179\n",
      "3179\n"
     ]
    },
    {
     "ename": "KeyError",
     "evalue": "'screen_name'",
     "output_type": "error",
     "traceback": [
      "\u001b[0;31m---------------------------------------------------------------------------\u001b[0m",
      "\u001b[0;31mKeyError\u001b[0m                                  Traceback (most recent call last)",
      "\u001b[0;32m<ipython-input-14-42deabce920b>\u001b[0m in \u001b[0;36m<module>\u001b[0;34m\u001b[0m\n\u001b[1;32m     21\u001b[0m \u001b[0;32mfor\u001b[0m \u001b[0mnode\u001b[0m \u001b[0;32min\u001b[0m \u001b[0mnt\u001b[0m\u001b[0;34m.\u001b[0m\u001b[0mnodes\u001b[0m\u001b[0;34m:\u001b[0m\u001b[0;34m\u001b[0m\u001b[0;34m\u001b[0m\u001b[0m\n\u001b[1;32m     22\u001b[0m     \u001b[0;31m#node[\"id\"] += \" Neighbors:<br>\" + \"<br>\".join(neighbor_map[node[\"id\"]])\u001b[0m\u001b[0;34m\u001b[0m\u001b[0;34m\u001b[0m\u001b[0;34m\u001b[0m\u001b[0m\n\u001b[0;32m---> 23\u001b[0;31m     \u001b[0minfo\u001b[0m\u001b[0;34m=\u001b[0m \u001b[0;34m\"nome utente: \"\u001b[0m \u001b[0;34m+\u001b[0m \u001b[0mnode\u001b[0m\u001b[0;34m[\u001b[0m\u001b[0;34m\"screen_name\"\u001b[0m\u001b[0;34m]\u001b[0m \u001b[0;34m+\u001b[0m \u001b[0;34m\",<br>\"\u001b[0m  \u001b[0;34m+\u001b[0m \u001b[0;34m\"<br>id: \"\u001b[0m \u001b[0;34m+\u001b[0m \u001b[0mnode\u001b[0m\u001b[0;34m[\u001b[0m\u001b[0;34m'id_str'\u001b[0m\u001b[0;34m]\u001b[0m\u001b[0;34m\u001b[0m\u001b[0;34m\u001b[0m\u001b[0m\n\u001b[0m\u001b[1;32m     24\u001b[0m     \u001b[0mnode\u001b[0m\u001b[0;34m[\u001b[0m\u001b[0;34m\"value\"\u001b[0m\u001b[0;34m]\u001b[0m \u001b[0;34m=\u001b[0m \u001b[0mlen\u001b[0m\u001b[0;34m(\u001b[0m\u001b[0mneighbor_map\u001b[0m\u001b[0;34m[\u001b[0m\u001b[0mnode\u001b[0m\u001b[0;34m[\u001b[0m\u001b[0;34m\"id\"\u001b[0m\u001b[0;34m]\u001b[0m\u001b[0;34m]\u001b[0m\u001b[0;34m)\u001b[0m\u001b[0;34m\u001b[0m\u001b[0;34m\u001b[0m\u001b[0m\n\u001b[1;32m     25\u001b[0m     \u001b[0mnode\u001b[0m\u001b[0;34m[\u001b[0m\u001b[0;34m'title'\u001b[0m\u001b[0;34m]\u001b[0m \u001b[0;34m=\u001b[0m \u001b[0minfo\u001b[0m\u001b[0;34m\u001b[0m\u001b[0;34m\u001b[0m\u001b[0m\n",
      "\u001b[0;31mKeyError\u001b[0m: 'screen_name'"
     ]
    }
   ],
   "source": [
    "from pyvis.network import Network\n",
    "import string\n",
    "\n",
    "twitter = pkl.read_gpickle(\"/Users/lorenzobellina/Documents/GitHub/ProgettoSocialComputing/graph/graph_networkx.pkl\")\n",
    "\n",
    "nt = Network(height=\"100%\", width=\"100%\", bgcolor=\"#111111\", font_color=\"white\", heading=\"Twitter Graph - Broken Edition\")\n",
    "\n",
    "print(len(list(twitter.nodes)))\n",
    "\n",
    "node = list(twitter.nodes)#[:800]\n",
    "twitter = twitter.subgraph(node)\n",
    "\n",
    "print(len(list(twitter.nodes)))\n",
    "\n",
    "nt.barnes_hut()\n",
    "nt.from_nx(twitter)\n",
    "neighbor_map = nt.get_adj_list()\n",
    "\n",
    "\n",
    "\n",
    "for node in nt.nodes:\n",
    "    #node[\"id\"] += \" Neighbors:<br>\" + \"<br>\".join(neighbor_map[node[\"id\"]])\n",
    "    info= \"nome utente: \" + node[\"screen_name\"] + \"<br>\"  + \"id: \" + node['id_str']\n",
    "    node[\"value\"] = len(neighbor_map[node[\"id\"]])\n",
    "    node['title'] = info\n",
    "    node['label'] = node['name']\n",
    "    if node['screen_name'] == 'damiano10':\n",
    "        node['color'] = 'red'\n",
    "    elif node['screen_name'] == 'eglu81':\n",
    "        node['color'] = 'yellow'\n",
    "    elif node['screen_name'] == 'mizzaro':\n",
    "        node['color'] = 'blue'\n",
    "    elif node['screen_name'] == 'Miccighel_':\n",
    "        node['color'] = '#0fefff'\n",
    "    elif node['screen_name'] == 'KevinRoitero':\n",
    "        node['color'] = '#ff0fd3'\n",
    "\n",
    "#for edge in nt.edges:\n",
    "    #if edge[\"id\"] = \n",
    " #   if profile[\"name\"].split(\"-\")[0] == \"Damiano\" :\n",
    "  #      edge_color=\"red\"\n",
    "   # elif profile[\"name\"].split(\"-\")[0] == \"Gianluca\" :\n",
    "    #    edge_color=\"yellow\"\n",
    "    #elif profile[\"name\"].split(\"-\")[0] == \"Kevin\" :\n",
    "     #   edge_color=\"green\"\n",
    "    #elif profile[\"name\"].split(\"-\")[0] == \"Michael\" :\n",
    "     #   edge_color=\"blue\"\n",
    "    #elif profile[\"name\"].split(\"-\")[0] == \"mizzaro\" :\n",
    "     #   edge_color=\"white\"\n",
    "\n",
    "#nt.set.options\n",
    "\n",
    "nt.show(\"twitter.html\")"
   ]
  },
  {
   "cell_type": "code",
   "execution_count": 18,
   "metadata": {},
   "outputs": [
    {
     "ename": "TypeError",
     "evalue": "'int' object is not subscriptable",
     "output_type": "error",
     "traceback": [
      "\u001b[0;31m---------------------------------------------------------------------------\u001b[0m",
      "\u001b[0;31mTypeError\u001b[0m                                 Traceback (most recent call last)",
      "\u001b[0;32m<ipython-input-18-4370bd7d533e>\u001b[0m in \u001b[0;36m<module>\u001b[0;34m\u001b[0m\n\u001b[1;32m     17\u001b[0m \u001b[0;32mfor\u001b[0m \u001b[0mnode\u001b[0m \u001b[0;32min\u001b[0m \u001b[0mnodesT\u001b[0m\u001b[0;34m:\u001b[0m\u001b[0;34m\u001b[0m\u001b[0;34m\u001b[0m\u001b[0m\n\u001b[1;32m     18\u001b[0m     \u001b[0;31m#node[\"id\"] += \" Neighbors:<br>\" + \"<br>\".join(neighbor_map[node[\"id\"]])\u001b[0m\u001b[0;34m\u001b[0m\u001b[0;34m\u001b[0m\u001b[0;34m\u001b[0m\u001b[0m\n\u001b[0;32m---> 19\u001b[0;31m     \u001b[0minfo\u001b[0m\u001b[0;34m=\u001b[0m \u001b[0;34m\"nome utente: \"\u001b[0m \u001b[0;34m+\u001b[0m \u001b[0mnode\u001b[0m\u001b[0;34m[\u001b[0m\u001b[0;34m'screen_name'\u001b[0m\u001b[0;34m]\u001b[0m \u001b[0;34m+\u001b[0m \u001b[0;34m\",\"\u001b[0m \u001b[0;34m+\u001b[0m \u001b[0;34m\" id: \"\u001b[0m \u001b[0;34m+\u001b[0m \u001b[0mnode\u001b[0m\u001b[0;34m[\u001b[0m\u001b[0;34m'id_str'\u001b[0m\u001b[0;34m]\u001b[0m\u001b[0;34m\u001b[0m\u001b[0;34m\u001b[0m\u001b[0m\n\u001b[0m\u001b[1;32m     20\u001b[0m     \u001b[0mnode\u001b[0m\u001b[0;34m[\u001b[0m\u001b[0;34m\"value\"\u001b[0m\u001b[0;34m]\u001b[0m \u001b[0;34m=\u001b[0m \u001b[0mlen\u001b[0m\u001b[0;34m(\u001b[0m\u001b[0mneighbor_map\u001b[0m\u001b[0;34m[\u001b[0m\u001b[0mnode\u001b[0m\u001b[0;34m[\u001b[0m\u001b[0;34m\"id\"\u001b[0m\u001b[0;34m]\u001b[0m\u001b[0;34m]\u001b[0m\u001b[0;34m)\u001b[0m\u001b[0;34m\u001b[0m\u001b[0;34m\u001b[0m\u001b[0m\n\u001b[1;32m     21\u001b[0m     \u001b[0mnode\u001b[0m\u001b[0;34m[\u001b[0m\u001b[0;34m'title'\u001b[0m\u001b[0;34m]\u001b[0m \u001b[0;34m=\u001b[0m \u001b[0minfo\u001b[0m\u001b[0;34m\u001b[0m\u001b[0;34m\u001b[0m\u001b[0m\n",
      "\u001b[0;31mTypeError\u001b[0m: 'int' object is not subscriptable"
     ]
    }
   ],
   "source": [
    "from pyvis.network import Network\n",
    "import string\n",
    "\n",
    "twitter = pkl.read_gpickle(\"/Users/lorenzobellina/Documents/GitHub/ProgettoSocialComputing/graph/graph_networkx.pkl\")\n",
    "\n",
    "nt = Network(height=\"100%\", width=\"100%\", bgcolor=\"#111111\", font_color=\"white\", heading=\"Twitter Graph - Broken Edition\")\n",
    "\n",
    "nodesT = list(twitter.nodes)#[:200]\n",
    "twitter = twitter.subgraph(nodesT)\n",
    "\n",
    "nt.barnes_hut()\n",
    "nt.from_nx(twitter)\n",
    "neighbor_map = nt.get_adj_list()\n",
    "\n",
    "\n",
    "\n",
    "for node in nodesT:\n",
    "    #node[\"id\"] += \" Neighbors:<br>\" + \"<br>\".join(neighbor_map[node[\"id\"]])\n",
    "    info= \"nome utente: \" + node['screen_name'] + \",<br>\" + \"<br>id: \" + node['id_str']\n",
    "    node[\"value\"] = len(neighbor_map[node[\"id\"]])\n",
    "    node['title'] = info\n",
    "    node['label'] = node['name']\n",
    "    if node['screen_name'] == 'damiano10':\n",
    "        node['color'] = 'red'\n",
    "    elif node['screen_name'] == 'eglu81':\n",
    "        node['color'] = 'yellow'\n",
    "    elif node['screen_name'] == 'mizzaro':\n",
    "        node['color'] = 'blue'\n",
    "    elif node['screen_name'] == 'Miccighel_':\n",
    "        node['color'] = '#0fefff'\n",
    "    elif node['screen_name'] == 'KevinRoitero':\n",
    "        node['color'] = '#ff0fd3'\n",
    "nt.show(\"twitShape1.html\")"
   ]
  },
  {
   "cell_type": "code",
   "execution_count": 8,
   "metadata": {},
   "outputs": [
    {
     "ename": "AttributeError",
     "evalue": "'Options' object has no attribute 'Layout'",
     "output_type": "error",
     "traceback": [
      "\u001b[0;31m---------------------------------------------------------------------------\u001b[0m",
      "\u001b[0;31mAttributeError\u001b[0m                            Traceback (most recent call last)",
      "\u001b[0;32m<ipython-input-8-baa76436eb35>\u001b[0m in \u001b[0;36m<module>\u001b[0;34m\u001b[0m\n\u001b[1;32m     13\u001b[0m \u001b[0mneighbor_map\u001b[0m \u001b[0;34m=\u001b[0m \u001b[0mnt\u001b[0m\u001b[0;34m.\u001b[0m\u001b[0mget_adj_list\u001b[0m\u001b[0;34m(\u001b[0m\u001b[0;34m)\u001b[0m\u001b[0;34m\u001b[0m\u001b[0;34m\u001b[0m\u001b[0m\n\u001b[1;32m     14\u001b[0m \u001b[0;34m\u001b[0m\u001b[0m\n\u001b[0;32m---> 15\u001b[0;31m \u001b[0mnt\u001b[0m\u001b[0;34m.\u001b[0m\u001b[0moptions\u001b[0m\u001b[0;34m.\u001b[0m\u001b[0mLayout\u001b[0m\u001b[0;34m(\u001b[0m\u001b[0mtwitter\u001b[0m\u001b[0;34m,\u001b[0m \u001b[0mrandomSeed\u001b[0m\u001b[0;34m=\u001b[0m\u001b[0;32mNone\u001b[0m\u001b[0;34m,\u001b[0m \u001b[0mimprovedLayout\u001b[0m\u001b[0;34m=\u001b[0m\u001b[0;32mTrue\u001b[0m\u001b[0;34m)\u001b[0m\u001b[0;34m\u001b[0m\u001b[0;34m\u001b[0m\u001b[0m\n\u001b[0m\u001b[1;32m     16\u001b[0m \u001b[0;34m\u001b[0m\u001b[0m\n\u001b[1;32m     17\u001b[0m \u001b[0;34m\u001b[0m\u001b[0m\n",
      "\u001b[0;31mAttributeError\u001b[0m: 'Options' object has no attribute 'Layout'"
     ]
    }
   ],
   "source": [
    "from pyvis.network import Network\n",
    "import string\n",
    "\n",
    "twitter = pkl.read_gpickle(\"/Users/lorenzobellina/Documents/GitHub/ProgettoSocialComputing/graph/graph_networkx.pkl\")\n",
    "\n",
    "nt = Network(height=\"100%\", width=\"100%\", bgcolor=\"#111111\", font_color=\"white\", heading=\"Twitter Graph - Broken Edition\")\n",
    "\n",
    "node = list(twitter.nodes)[:200]\n",
    "twitter = twitter.subgraph(node)\n",
    "\n",
    "nt.barnes_hut()#(gravity=-5000, central_gravity=0, spring_length=200, spring_strength=0.009, damping=0.025, overlap=0) #me li mette un po vicini il damping verso 1 credo #gravity ti mostra subito i nodi per bene\n",
    "nt.from_nx(twitter)\n",
    "neighbor_map = nt.get_adj_list()\n",
    "\n",
    "nt.options.Layout(twitter, randomSeed=None, improvedLayout=True)\n",
    "\n",
    "\n",
    "\n",
    "for node in nt.nodes:\n",
    "    #node[\"id\"] += \" Neighbors:<br>\" + \"<br>\".join(neighbor_map[node[\"id\"]])\n",
    "    info= \"nome utente: \" + node['screen_name'] + \"<br>\" + \"id: \" + node['id_str']\n",
    "    node[\"value\"] = len(neighbor_map[node[\"id\"]])\n",
    "    node['title'] = info\n",
    "    node['label'] = node['name']\n",
    "    node['shape'] = 'circularImage'\n",
    "    node['image'] = node['profile_image_url']\n",
    "    if node['screen_name'] == 'damiano10':\n",
    "        node['color'] = 'red'\n",
    "        node['mass'] = 50\n",
    "        node['x'] = 500\n",
    "        node['y'] = 50\n",
    "    elif node['screen_name'] == 'eglu81':\n",
    "        node['color'] = 'yellow'\n",
    "        node['mass'] = 50\n",
    "    elif node['screen_name'] == 'mizzaro':\n",
    "        node['color'] = 'blue'\n",
    "        node['mass'] = 50\n",
    "    elif node['screen_name'] == 'Miccighel_':\n",
    "        node['color'] = '#0fefff'\n",
    "        node['mass'] = 50\n",
    "    elif node['screen_name'] == 'KevinRoitero':\n",
    "        node['color'] = '#ff0fd3'\n",
    "        node['mass'] = 50\n",
    "        \n",
    "        \n",
    "for edge in nt.edges:\n",
    "    if edge['to'] == 132646210:\n",
    "        edge['color'] = 'red'\n",
    "    elif edge['to'] == 19659370:\n",
    "        edge['color'] = 'yellow'\n",
    "    elif edge['to'] == 18932422:\n",
    "        edge['color'] = 'blue'\n",
    "    elif edge['to'] == 15750573:\n",
    "        edge['color'] = '#0fefff'\n",
    "    elif edge['to'] == 3036907250:\n",
    "        edge['color'] = '#ff0fd3'\n",
    "    else:\n",
    "        edge['color'] = 'white'\n",
    "\n",
    "nt.show(\"twitShape2.html\")"
   ]
  },
  {
   "cell_type": "code",
   "execution_count": null,
   "metadata": {},
   "outputs": [],
   "source": [
    "# import\n",
    "from pyvis import network as net\n",
    "\n",
    "# make a pyvis network\n",
    "twitter = pkl.read_gpickle(\"/Users/lorenzobellina/Documents/GitHub/ProgettoSocialComputing/graph/graph_networkx.pkl\")\n",
    "\n",
    "pyvis_graph = Network(height=\"100%\", width=\"100%\", bgcolor=\"blue\", font_color=\"red\")\n",
    "pyvis_graph.width = '1000px'\n",
    "        # for each node and its attributes in the networkx graph\n",
    "for node,node_attrs in twitter.nodes(data=True):\n",
    "    pyvis_graph.add_node(node,**node_attrs)\n",
    "    #         print(node,node_attrs)\n",
    "\n",
    "        # for each edge and its attributes in the networkx graph\n",
    "for source,target,edge_attrs in twitter.edges(data=True):\n",
    "            # if value/width not specified directly, and weight is specified, set 'value' to 'weight'\n",
    "    if not 'value' in edge_attrs and not 'width' in edge_attrs and 'weight' in edge_attrs:\n",
    "                # place at key 'value' the weight of the edge\n",
    "        edge_attrs['value']=edge_attrs['weight']\n",
    "            # add the edge\n",
    "    pyvis_graph.add_edge(source,target,**edge_attrs)\n",
    "\n",
    "        # turn buttons on\n",
    "\n",
    "\n",
    "        # return and also save\n",
    "pyvis_graph.show(\"testOutput.html\")\n"
   ]
  },
  {
   "cell_type": "code",
   "execution_count": null,
   "metadata": {},
   "outputs": [],
   "source": [
    "#neighbor_map = nt.get_adj_list()\n",
    "#print(neighbor_map)\n",
    "\n",
    "#for node in nt.nodes:\n",
    " #   print(node['id'])\n",
    "    \n",
    "for node in nt.nodes:\n",
    "    node[\"value\"] = len(neighbor_map[node['id']])\n",
    "    print(node['value'], node['screen_name'])\n"
   ]
  },
  {
   "cell_type": "code",
   "execution_count": null,
   "metadata": {},
   "outputs": [],
   "source": [
    "print(G.nodes.data())"
   ]
  },
  {
   "cell_type": "code",
   "execution_count": 5,
   "metadata": {},
   "outputs": [],
   "source": [
    "from serializer import*\n",
    "#s = Serializer(\"data\")"
   ]
  },
  {
   "cell_type": "code",
   "execution_count": null,
   "metadata": {},
   "outputs": [],
   "source": [
    "#serializer = Serializer(f'data/{user}')"
   ]
  },
  {
   "cell_type": "code",
   "execution_count": 7,
   "metadata": {},
   "outputs": [
    {
     "name": "stdout",
     "output_type": "stream",
     "text": [
      "Data read from path: data/all_users.json\n",
      "processing\n",
      "Data read from path: data/eglu81/eglu81_profile.json\n"
     ]
    },
    {
     "name": "stderr",
     "output_type": "stream",
     "text": [
      "Rate limit reached. Sleeping for: 812\n",
      "Rate limit reached. Sleeping for: 817\n",
      "Rate limit reached. Sleeping for: 814\n",
      "Rate limit reached. Sleeping for: 811\n",
      "Rate limit reached. Sleeping for: 817\n",
      "Rate limit reached. Sleeping for: 816\n",
      "Rate limit reached. Sleeping for: 814\n",
      "Rate limit reached. Sleeping for: 818\n",
      "Rate limit reached. Sleeping for: 815\n",
      "Rate limit reached. Sleeping for: 819\n",
      "Rate limit reached. Sleeping for: 813\n",
      "Rate limit reached. Sleeping for: 811\n",
      "Rate limit reached. Sleeping for: 809\n",
      "Rate limit reached. Sleeping for: 810\n"
     ]
    },
    {
     "name": "stdout",
     "output_type": "stream",
     "text": [
      "Data serialized to path: data/eglu81/eglu81_friendships.json\n"
     ]
    }
   ],
   "source": [
    "def get_friendship(sourceid, targetid, api):\n",
    "    kind = \"\"\n",
    "\n",
    "    friendship = api.show_friendship(source_id=sourceid, target_id=targetid)\n",
    "\n",
    "    if not friendship[0].following and not friendship[0].followed_by:\n",
    "        kind = \"none\"\n",
    "    elif not friendship[0].following and friendship[0].followed_by:\n",
    "        kind = \"r_l\"\n",
    "    elif friendship[0].following and not friendship[0].followed_by:\n",
    "        kind = \"l_r\"\n",
    "    else:\n",
    "        kind = \"bi\"\n",
    "\n",
    "    return {\n",
    "        \"source_id\": sourceid,\n",
    "        \"target_id\": targetid,\n",
    "        \"friendship\": kind\n",
    "    }\n",
    "\n",
    "accounts = [\"eglu81\"]\n",
    "serializer = Serializer(\"data\")\n",
    "users = serializer.read_json(\"all_users.json\")\n",
    "edges = []\n",
    "print(\"processing\")\n",
    "for account in accounts:\n",
    "    serializer = Serializer(f'data/{account}')\n",
    "    account_json = serializer.read_json(f\"{account}_profile.json\")\n",
    "    account_id = account_json[\"id\"]\n",
    "    for user in users:\n",
    "        if user[\"id\"] is not account_id:\n",
    "            edges.append(get_friendship(account_id, user[\"id\"], api))\n",
    "            \n",
    "    serializer.serialize_json(f'{account}_friendships.json', edges)"
   ]
  },
  {
   "cell_type": "code",
   "execution_count": null,
   "metadata": {},
   "outputs": [],
   "source": []
  }
 ],
 "metadata": {
  "kernelspec": {
   "display_name": "Python 3",
   "language": "python",
   "name": "python3"
  },
  "language_info": {
   "codemirror_mode": {
    "name": "ipython",
    "version": 3
   },
   "file_extension": ".py",
   "mimetype": "text/x-python",
   "name": "python",
   "nbconvert_exporter": "python",
   "pygments_lexer": "ipython3",
   "version": "3.8.3"
  }
 },
 "nbformat": 4,
 "nbformat_minor": 4
}
