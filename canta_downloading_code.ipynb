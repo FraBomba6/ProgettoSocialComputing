{
 "cells": [
  {
   "cell_type": "code",
   "execution_count": 4,
   "metadata": {
    "collapsed": false,
    "jupyter": {
     "outputs_hidden": false
    },
    "pycharm": {
     "name": "#%%\n"
    }
   },
   "outputs": [],
   "source": [
    "# Setup credentials\n",
    "from datetime import datetime\n",
    "import os\n",
    "import canta_secret\n",
    "import tweepy\n",
    "from serializer import Serializer\n",
    "from tweepy import TweepError\n",
    "\n",
    "consumer_key = canta_secret.key\n",
    "consumer_secret = canta_secret.secret\n",
    "bearer_token = canta_secret.bearer\n",
    "access_token = canta_secret.access_token\n",
    "access_secret = canta_secret.access_secret"
   ]
  },
  {
   "cell_type": "code",
   "execution_count": 5,
   "metadata": {
    "collapsed": false,
    "jupyter": {
     "outputs_hidden": false
    },
    "pycharm": {
     "name": "#%%\n"
    }
   },
   "outputs": [
    {
     "name": "stdout",
     "output_type": "stream",
     "text": [
      "Auth completed successfuly!\n"
     ]
    }
   ],
   "source": [
    "# Authentication on Twitter API\n",
    "auth = tweepy.OAuthHandler(consumer_key, consumer_secret)\n",
    "auth.set_access_token(access_token, access_secret)\n",
    "api = tweepy.API(auth, wait_on_rate_limit=True, wait_on_rate_limit_notify=True, timeout=120)\n",
    "if api.verify_credentials:\n",
    "    print(\"Auth completed successfuly!\")\n",
    "else:\n",
    "    print(\"Issue occoured during authentication\")"
   ]
  },
  {
   "cell_type": "code",
   "execution_count": null,
   "metadata": {
    "pycharm": {
     "name": "#%%\n"
    }
   },
   "outputs": [],
   "source": [
    "# Get starting users info\n",
    "\n",
    "accounts = [\"Miccighel_\"]\n",
    "for account in accounts:\n",
    "    serializer = Serializer(f'check_data/{account}')\n",
    "    profile = api.get_user(account)\n",
    "    profile_json = profile._json\n",
    "    serializer.serialize_json(f'{account}_profile.json', profile_json)"
   ]
  },
  {
   "cell_type": "code",
   "execution_count": null,
   "metadata": {
    "collapsed": false,
    "jupyter": {
     "outputs_hidden": false
    },
    "pycharm": {
     "name": "#%%\n"
    }
   },
   "outputs": [],
   "source": [
    "# Point #1 of the assignment: retrieve starting users followers and followings\n",
    "for account in accounts:\n",
    "    print(f\"Processing @{account}\")\n",
    "    serializer = Serializer(f'check_data/{account}')\n",
    "\n",
    "### FOLLOWERS\n",
    "\n",
    "    account_followers = []\n",
    "    for item in tweepy.Cursor(\n",
    "            api.followers,\n",
    "            screen_name=account,\n",
    "            skip_status=True,\n",
    "            include_user_entities=False\n",
    "    ).items():\n",
    "        found_follower = item._json\n",
    "        account_followers.append(found_follower)\n",
    "\n",
    "    print(f\"Found {len(account_followers)} followers for @{account}\")\n",
    "    serializer.serialize_json(f\"{account}_follower.json\", account_followers)\n",
    "\n",
    "### FOLLOWINGS\n",
    "\n",
    "    account_followings = []\n",
    "    for item in tweepy.Cursor(\n",
    "            api.friends,\n",
    "            screen_name=account,\n",
    "            skip_status=True,\n",
    "            include_user_entities=False\n",
    "    ).items():\n",
    "        found_followings = item._json\n",
    "        account_followings.append(found_followings)\n",
    "\n",
    "    print(f\"@{account} follows {len(account_followings)} users\")\n",
    "    serializer.serialize_json(f\"{account}_following.json\", account_followings)"
   ]
  },
  {
   "cell_type": "code",
   "execution_count": null,
   "metadata": {
    "collapsed": false,
    "jupyter": {
     "outputs_hidden": false
    },
    "pycharm": {
     "name": "#%%\n"
    }
   },
   "outputs": [],
   "source": [
    "# Points #2 and #3 of the assignment: pick 5 random followers of the starting users,\n",
    "# retrieve 10 followers each, pick 5 random followings of the starting users\n",
    "# and retrieve 10 followings each\n",
    "\n",
    "import random\n",
    "\n",
    "for account in accounts:\n",
    "    serializer = Serializer(f'check_data/{account}')\n",
    "    json = serializer.read_json(f\"{account}_follower.json\")\n",
    "    for count in range(0, 5):\n",
    "        random_follower = random.choice(json)\n",
    "        random_follower_screenName = random_follower[\"screen_name\"]\n",
    "        random_follower_id = random_follower[\"id\"]\n",
    "        random_follower_followers = []\n",
    "        for item in tweepy.Cursor(\n",
    "                api.followers,\n",
    "                screen_name=random_follower_screenName,\n",
    "                skip_status=True,\n",
    "                include_user_entities=False\n",
    "        ).items(10):\n",
    "            found_follower = item._json\n",
    "            random_follower_followers.append(found_follower)\n",
    "        print(f\"Found {len(random_follower_followers)} followers for @{random_follower_screenName}\")\n",
    "        serializer.serialize_json(f\"random_{random_follower_id}_follower.json\", random_follower_followers)\n",
    "\n",
    "    json = serializer.read_json(f\"{account}_following.json\")\n",
    "    for count in range(0, 5):\n",
    "        random_following = random.choice(json)\n",
    "        random_following_screenName = random_following[\"screen_name\"]\n",
    "        random_following_id = random_following[\"id\"]\n",
    "        random_following_followings = []\n",
    "        for item in tweepy.Cursor(\n",
    "                api.friends,\n",
    "                screen_name=random_following_screenName,\n",
    "                skip_status=True,\n",
    "                include_user_entities=False\n",
    "        ).items(10):\n",
    "            found_friend = item._json\n",
    "            random_following_followings.append(found_friend)\n",
    "        print(f\"@{random_following_screenName} follows {len(random_following_followings)} users\")\n",
    "        serializer.serialize_json(f\"random_{random_following_id}_following.json\", random_following_followings)"
   ]
  },
  {
   "cell_type": "code",
   "execution_count": null,
   "metadata": {},
   "outputs": [],
   "source": [
    "# Checks for the presence of profs in random users' data downloaded. \n",
    "# It shouldn't find conflicts.\n",
    "counter = 0\n",
    "s = Serializer(f\"check_data/{account}\")\n",
    "profs = [\"Miccighel_\", \"damiano10\", \"eglu81\", \"mizzaro\", \"KevinRoitero\"]\n",
    "with os.scandir(f\"check_data/{account}\") as directory:\n",
    "    for entry in directory:\n",
    "        if \"random\" in entry.name:\n",
    "            random_group = s.read_json(entry.name)\n",
    "            for user in random_group:\n",
    "                if user[\"screen_name\"] in profs:\n",
    "                    counter += 1\n",
    "                    print(f\"Conflict found in file {entry.name}\")\n",
    "print(f\"Found {counter} conflicts.\")"
   ]
  },
  {
   "cell_type": "code",
   "execution_count": null,
   "metadata": {
    "collapsed": false,
    "jupyter": {
     "outputs_hidden": false
    },
    "pycharm": {
     "name": "#%%\n"
    }
   },
   "outputs": [],
   "source": [
    "# Point #4 of the assignment: retrieve all encountered users' profile\n",
    "error_count = 0         # Keep trace of how many errors occurred during user retrieval (account not found)\n",
    "duplicate_count = 0     # Keep trace of users already encountered\n",
    "\n",
    "all_users = []\n",
    "processed_ids = []\n",
    "\n",
    "print(f\"Start at {datetime.now()}\")\n",
    "for account in accounts:\n",
    "    print(\n",
    "        f'\\n\\n*************************************\\nProcessing {account} and his friends\\n*************************************')\n",
    "    serializer = Serializer(f'check_data/{account}')\n",
    "    with os.scandir(f'check_data/{account}') as it:\n",
    "        for entry in it:\n",
    "            if entry.name.endswith('.json') and not entry.name.endswith('profile.json'):\n",
    "                print('\\n\\n******************')\n",
    "                users_data = serializer.read_json(f\"{entry.name}\")\n",
    "                print(f'\\nProcessing {entry.name}, containing {len(users_data)} users\\n******************\\n\\n')\n",
    "                for user in users_data:\n",
    "                    if user[\"id\"] not in processed_ids:\n",
    "                        try:\n",
    "                            print(f'Processing {user[\"id\"]}, user #{len(all_users) + 1}')\n",
    "                            user_details = api.get_user(user[\"id\"])._json\n",
    "                            useful_user_details = {\n",
    "                                \"id\": user_details[\"id\"],\n",
    "                                \"name\": user_details[\"name\"],\n",
    "                                \"screen_name\": user_details[\"screen_name\"],\n",
    "                                \"description\": user_details[\"description\"],\n",
    "                                \"followers_count\": user_details[\"followers_count\"],\n",
    "                                \"friends_count\": user_details[\"friends_count\"],\n",
    "                                \"profile_image_url_https\": user_details[\"profile_image_url_https\"]\n",
    "                            }\n",
    "                            all_users.append(useful_user_details)\n",
    "                            processed_ids.append(user_details[\"id\"])\n",
    "                        except tweepy.TweepError:\n",
    "                            error_count += 1\n",
    "                            print(\"Skipped user because of error\")\n",
    "                    else:\n",
    "                        duplicate_count += 1\n",
    "serializer = Serializer('check_data')\n",
    "print('\\n\\n*************************************\\n')\n",
    "serializer.serialize_json(f\"{account}_all_users.json\", all_users)\n",
    "print('\\n*************************************\\n\\n')\n",
    "print(f'Found {error_count} errors and {duplicate_count} duplicates')"
   ]
  },
  {
   "cell_type": "code",
   "execution_count": null,
   "metadata": {
    "collapsed": false,
    "jupyter": {
     "outputs_hidden": false
    },
    "pycharm": {
     "name": "#%%\n"
    }
   },
   "outputs": [],
   "source": [
    "# As requested, before building the social network is necessary to check friendships\n",
    "accounts = [\"Miccighel_\"]\n",
    "import os\n",
    "def get_friendship(sourceid, targetid, api):\n",
    "    kind = \"\"\n",
    "\n",
    "    friendship = api.show_friendship(source_id=sourceid, target_id=targetid)\n",
    "\n",
    "    if not friendship[0].following and not friendship[0].followed_by:\n",
    "        kind = \"none\"\n",
    "    elif not friendship[0].following and friendship[0].followed_by:\n",
    "        kind = \"r_l\"\n",
    "    elif friendship[0].following and not friendship[0].followed_by:\n",
    "        kind = \"l_r\"\n",
    "    else:\n",
    "        kind = \"bi\"\n",
    "\n",
    "    return {\n",
    "        \"source_id\": sourceid,\n",
    "        \"target_id\": targetid,\n",
    "        \"friendship\": kind\n",
    "    }\n",
    "\n",
    "\n",
    "def caller(count, serializer):\n",
    "    try:\n",
    "        users = serializer.read_json(\"unique_all_users.json\")\n",
    "        if count > 0:\n",
    "            users = users[count:]\n",
    "            \n",
    "        for account in accounts:\n",
    "            account_json = serializer.read_json(f\"{account}/{account}_profile.json\")\n",
    "            account_id = account_json[\"id\"]\n",
    "            for user in users:\n",
    "                if user[\"id\"] is not account_id:\n",
    "                    friendship = get_friendship(account_id, user[\"id\"], api)\n",
    "                    # edges.append(friendship)\n",
    "                    serializer.serialize_json(f'{account}/{account}_all_friendships.json', friendship)\n",
    "                    print(f\"Added friendship between {account} and {user['screen_name']} #{count}\")\n",
    "                    count += 1\n",
    "\n",
    "            # There's also the necessity to check friendships between the random picked users at Point #2 and #3 and their followers and followings\n",
    "            with os.scandir(f'check_data/{account}') as it:\n",
    "                for entry in it:\n",
    "                    if entry.name.endswith('.json') and entry.name.startswith('random'):\n",
    "                        fileId = int(entry.name.split(\"_\")[1])\n",
    "                        json = serializer.read_json(f\"{account}/{entry.name})\n",
    "                        for profile in json:\n",
    "                            friendship = get_friendship(fileId, profile[\"id\"], api)\n",
    "                            # edges.append(friendship)\n",
    "                            serializer.serialize_json(f'Miccighel__all_friendships.json', friendship)\n",
    "                            print(f\"Added friendship between {fileId} and {profile['screen_name']} #{count}\")\n",
    "                            count += 1\n",
    "        print(\"Downloaded finished succesfully\")\n",
    "        \n",
    "    except TweepError as te:\n",
    "        print(f\"Download aborted unexpectedly due to {te}\")\n",
    "        print(f\"Download will restore from user {count}\")\n",
    "        caller(count, serializer)\n",
    "    except Exception as e: \n",
    "        print(\"An error occured, download should be restarted from scratch \" + e)\n",
    "\n",
    "caller(0, Serializer('check_data'))"
   ]
  },
  {
   "cell_type": "code",
   "execution_count": null,
   "metadata": {
    "collapsed": false,
    "jupyter": {
     "outputs_hidden": false
    },
    "pycharm": {
     "name": "#%%\n"
    }
   },
   "outputs": [],
   "source": [
    "# Point #5 of the assignment: build the social network"
   ]
  }
 ],
 "metadata": {
  "kernelspec": {
   "display_name": "Python 3",
   "language": "python",
   "name": "python3"
  },
  "language_info": {
   "codemirror_mode": {
    "name": "ipython",
    "version": 3
   },
   "file_extension": ".py",
   "mimetype": "text/x-python",
   "name": "python",
   "nbconvert_exporter": "python",
   "pygments_lexer": "ipython3",
   "version": "3.7.9"
  }
 },
 "nbformat": 4,
 "nbformat_minor": 4
}
