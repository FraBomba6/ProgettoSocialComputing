{
 "cells": [
  {
   "cell_type": "code",
   "execution_count": 1,
   "metadata": {},
   "outputs": [],
   "source": [
    "import canta_secret\n",
    "import tweepy\n",
    "from serializer import Serializer\n",
    "consumer_key = canta_secret.key\n",
    "consumer_secret = canta_secret.secret\n",
    "bearer_token = canta_secret.bearer\n",
    "access_token = canta_secret.access_token\n",
    "access_secret = canta_secret.access_secret"
   ]
  },
  {
   "cell_type": "code",
   "execution_count": 2,
   "metadata": {},
   "outputs": [
    {
     "name": "stdout",
     "output_type": "stream",
     "text": [
      "Auth completed successfuly!\n"
     ]
    }
   ],
   "source": [
    "# Authentication to Twitter API\n",
    "\n",
    "auth = tweepy.OAuthHandler(consumer_key, consumer_secret)\n",
    "auth.set_access_token(access_token, access_secret)\n",
    "api = tweepy.API(auth, wait_on_rate_limit=True, wait_on_rate_limit_notify=True)\n",
    "if api.verify_credentials:\n",
    "    print(\"Auth completed successfuly!\")\n",
    "else:\n",
    "    print(\"Issue occoured during authentication\")\n",
    "    \n",
    "    \n",
    "# Building serializer\n",
    "\n",
    "s = Serializer(\"followers\")"
   ]
  },
  {
   "cell_type": "code",
   "execution_count": null,
   "metadata": {},
   "outputs": [],
   "source": [
    "users = [\"mizzaro\", \"KevinRoitero\"]\n",
    "\n",
    "# Followers\n",
    "\n",
    "for user in users:\n",
    "    print(f\"Processing @{user}\")\n",
    "\n",
    "    user_followers = []\n",
    "\n",
    "    for item in tweepy.Cursor(\n",
    "            api.following,\n",
    "            screen_name=user,\n",
    "            skip_status=True,\n",
    "            include_user_entities=False\n",
    "    ).items():\n",
    "        user_followers.append(item._json)\n",
    "\n",
    "    print(f\"Found {len(user_followers)} followers for @{user}\")\n",
    "    s.serialize_json(f\"{user}_followers.json\", user_followers)"
   ]
  },
  {
   "cell_type": "code",
   "execution_count": null,
   "metadata": {},
   "outputs": [],
   "source": [
    "# Followings\n",
    "\n",
    "for user in users:\n",
    "    print(f\"Processing @{user}\")\n",
    "\n",
    "    user_following = []\n",
    "\n",
    "    for item in tweepy.Cursor(\n",
    "            api.friends,\n",
    "            screen_name=user,\n",
    "            skip_status=True,\n",
    "            include_user_entities=False\n",
    "    ).items():\n",
    "        user_following.append(item._json)\n",
    "\n",
    "    print(f\"Found {len(user_followers)} following for @{user}\")\n",
    "    s.serialize_json(f\"{user}_following.json\", user_followers)"
   ]
  },
  {
   "cell_type": "code",
   "execution_count": null,
   "metadata": {},
   "outputs": [],
   "source": [
    "# Downloading @mizzaro @damiano10 @Miccighel_ @eglu81 @KevinRoitero\n",
    "\n",
    "users = [\"mizzaro\", \"damiano10\", \"Miccighel_\", \"eglu81\", \"KevinRoitero\"]\n",
    "\n",
    "for user in users:\n",
    "    print(f\"Processing @{user}\")\n",
    "    info = api.get_user(screen_name=user, skip_staus=True, include_user_entities=False)\n",
    "    s.serialize_json(f\"{user}_profile.json\", info._json)"
   ]
  },
  {
   "cell_type": "code",
   "execution_count": 3,
   "metadata": {},
   "outputs": [
    {
     "name": "stderr",
     "output_type": "stream",
     "text": [
      "Rate limit reached. Sleeping for: 701\n",
      "Rate limit reached. Sleeping for: 891\n",
      "Rate limit reached. Sleeping for: 892\n"
     ]
    },
    {
     "name": "stdout",
     "output_type": "stream",
     "text": [
      "Found 836 following for @damiano10\n",
      "Data serialized to path: followers/damiano10_following.json\n"
     ]
    }
   ],
   "source": [
    "# damiano10 following\n",
    "\n",
    "user_following = []\n",
    "for item in tweepy.Cursor(\n",
    "        api.friends,\n",
    "        screen_name=\"damiano10\",\n",
    "        skip_status=True,\n",
    "        include_user_entities=False\n",
    ").items():\n",
    "    user_following.append(item._json)\n",
    "\n",
    "print(f\"Found {len(user_following)} following for @damiano10\")\n",
    "s.serialize_json(f\"damiano10_following.json\", user_following)"
   ]
  },
  {
   "cell_type": "code",
   "execution_count": 6,
   "metadata": {},
   "outputs": [
    {
     "name": "stderr",
     "output_type": "stream",
     "text": [
      "Rate limit reached. Sleeping for: 892\n"
     ]
    },
    {
     "name": "stdout",
     "output_type": "stream",
     "text": [
      "Found 330 followers for @Miccighel\n",
      "Data serialized to path: followers/Miccighel__following.json\n"
     ]
    }
   ],
   "source": [
    "# Miccighel followers\n",
    "user_followers = []\n",
    "for item in tweepy.Cursor(\n",
    "        api.followers,\n",
    "        screen_name=\"Miccighel_\",\n",
    "        skip_status=True,\n",
    "        include_user_entities=False\n",
    ").items():\n",
    "    user_followers.append(item._json)\n",
    "\n",
    "print(f\"Found {len(user_followers)} followers for @Miccighel\")\n",
    "s.serialize_json(f\"Miccighel__following.json\", user_followers)"
   ]
  },
  {
   "cell_type": "code",
   "execution_count": null,
   "metadata": {},
   "outputs": [],
   "source": [
    "users = [\"mizzaro\", \"damiano10\", \"Miccighel_\", \"eglu81\", \"KevinRoitero\"]\n",
    "for user in users:\n",
    "    json = serializer.read_json(f\"{user}_followers.json\")\n",
    "    for count in range(0, 5):\n",
    "        random_follower = random.choice(json)[\"screen_name\"]\n",
    "        random_follower_followers = []\n",
    "        for item in tweepy.Cursor(\n",
    "                api.followers,\n",
    "                screen_name=random_follower,\n",
    "                skip_status=True,\n",
    "                include_user_entities=False\n",
    "        ).items(10):\n",
    "            found_follower = item._json\n",
    "            random_follower_followers.append(found_follower)\n",
    "        print(f\"Found {len(random_follower_followers)} followers for @{random_follower}\")\n",
    "        serializer = se.Serializer('./following')\n",
    "        serializer.serialize_json(f\"random_{random_follower}_follower.json\", random_follower_followers)\n",
    "\n",
    "    json = serializer.read_json(f\"{user}_following.json\")\n",
    "    for count in range(0, 5):\n",
    "        random_friend = random.choice(json)[\"screen_name\"]\n",
    "        random_friend_friends = []\n",
    "        for item in tweepy.Cursor(\n",
    "                api.following,\n",
    "                screen_name=random_friend,\n",
    "                skip_status=True,\n",
    "                include_user_entities=False\n",
    "        ).items(10):\n",
    "            found_friend = item._json\n",
    "            random_friend_friends.append(found_friend)\n",
    "        print(f\"@{random_friend} follows {len(random_friend_friends)} users\")\n",
    "        serializer = se.Serializer('./following')\n",
    "        serializer.serialize_json(f\"random_{random_friend}_following.json\", random_friend_friends)"
   ]
  }
 ],
 "metadata": {
  "kernelspec": {
   "display_name": "Python 3",
   "language": "python",
   "name": "python3"
  },
  "language_info": {
   "codemirror_mode": {
    "name": "ipython",
    "version": 3
   },
   "file_extension": ".py",
   "mimetype": "text/x-python",
   "name": "python",
   "nbconvert_exporter": "python",
   "pygments_lexer": "ipython3",
   "version": "3.7.9"
  }
 },
 "nbformat": 4,
 "nbformat_minor": 4
}
