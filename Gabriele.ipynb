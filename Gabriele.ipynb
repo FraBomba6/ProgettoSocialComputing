{
 "cells": [
  {
   "cell_type": "code",
   "execution_count": 2,
   "metadata": {},
   "outputs": [],
   "source": [
    "import os \n",
    "import json\n",
    "import pprint\n",
    "%matplotlib inline\n",
    "from serializer import*\n",
    "import tweepy\n",
    "import pandas as pd\n",
    "import networkx as nx\n",
    "import numpy as np\n",
    "import matplotlib.pyplot as plt\n",
    "from pylab import rcParams\n",
    "from pyvis.network import Network\n",
    "\n",
    "#Twitter API credentials\n",
    "api_key = \"ENFvcEFBU6prbQWZVMKYHhHCW\"\n",
    "api_secret = \"OoLxYiucfTgnheUH1Bp7YJTsyIto9VcxLERBeXCg84NwjjgCAr\"\n",
    "access_token = \"2572511777-adhDu1rnH5RYVPdfk51jPzLbOzpppivKmVYTtFH\"\n",
    "access_secret = \"Oq1Q8CTYoDKxfyal7aY2x5V88QBqM2SAFac5e8LV6eeWY\"\n",
    "bearer_token = \"AAAAAAAAAAAAAAAAAAAAAJkTJQEAAAAAaoRAjF4yb5OBca0iPYQZvs5vH5s%3D5AG5ZaEGM6pFtGL7cQohdtzimqd1aLcqHGbJPOSCXO4Fxnltwz\""
   ]
  },
  {
   "cell_type": "code",
   "execution_count": 3,
   "metadata": {},
   "outputs": [
    {
     "name": "stdout",
     "output_type": "stream",
     "text": [
      "Authentication completed successfully!\n"
     ]
    }
   ],
   "source": [
    "auth = tweepy.OAuthHandler(api_key, api_secret)\n",
    "auth.set_access_token(access_token, access_secret)\n",
    "api = tweepy.API(auth, wait_on_rate_limit=True, wait_on_rate_limit_notify=True)\n",
    "if(api.verify_credentials):\n",
    "    print ('Authentication completed successfully!')\n",
    "    \n",
    "s = Serializer(\"data\")"
   ]
  },
  {
   "cell_type": "code",
   "execution_count": null,
   "metadata": {},
   "outputs": [
    {
     "name": "stdout",
     "output_type": "stream",
     "text": [
      "Processing @mizzaro\n"
     ]
    },
    {
     "name": "stderr",
     "output_type": "stream",
     "text": [
      "Rate limit reached. Sleeping for: 892\n"
     ]
    }
   ],
   "source": [
    "users = [\"mizzaro\"]\n",
    "\n",
    "for user in users:\n",
    "    print(f\"Processing @{user}\")\n",
    "\n",
    "    user_followers = []\n",
    "\n",
    "    for item in tweepy.Cursor(\n",
    "            api.friends,\n",
    "            screen_name=user,\n",
    "            skip_status=True,\n",
    "            include_user_entities=False\n",
    "    ).items():\n",
    "        user_followers.append(item._json)\n",
    "\n",
    "    print(f\"Found {len(user_followers)} following for @{user}\")\n",
    "    s.serialize_json(f\"{user}/{user}_following.json\", user_followers)"
   ]
  },
  {
   "cell_type": "code",
   "execution_count": 11,
   "metadata": {
    "scrolled": true
   },
   "outputs": [
    {
     "name": "stdout",
     "output_type": "stream",
     "text": [
      "Analizzo damiano10\n",
      "Data read from path: data/damiano10/damiano10_profile.json\n",
      "Aggiungo il nodo Damiano Spina\n",
      "Data read from path: data/damiano10/damiano10_followers.json\n",
      "Aggiungo i 786 followers di Damiano Spina\n",
      "Data read from path: data/damiano10/damiano10_following.json\n",
      "Aggiungo i 836 following di Damiano Spina\n",
      "Inserisco i random di Damiano Spina\n"
     ]
    },
    {
     "ename": "ValueError",
     "evalue": "invalid literal for int() with base 10: 'Store'",
     "output_type": "error",
     "traceback": [
      "\u001b[1;31m---------------------------------------------------------------------------\u001b[0m",
      "\u001b[1;31mValueError\u001b[0m                                Traceback (most recent call last)",
      "\u001b[1;32m<ipython-input-11-2435be588624>\u001b[0m in \u001b[0;36m<module>\u001b[1;34m\u001b[0m\n\u001b[0;32m     26\u001b[0m         \u001b[0mtemp_dir\u001b[0m \u001b[1;33m=\u001b[0m \u001b[0mdirectory\u001b[0m\u001b[1;33m+\u001b[0m\u001b[1;34m\"/\"\u001b[0m\u001b[1;33m+\u001b[0m\u001b[0mdirname\u001b[0m\u001b[1;33m\u001b[0m\u001b[1;33m\u001b[0m\u001b[0m\n\u001b[0;32m     27\u001b[0m         \u001b[1;32mfor\u001b[0m \u001b[0mfile\u001b[0m \u001b[1;32min\u001b[0m \u001b[0mos\u001b[0m\u001b[1;33m.\u001b[0m\u001b[0mlistdir\u001b[0m\u001b[1;33m(\u001b[0m\u001b[0mtemp_dir\u001b[0m\u001b[1;33m)\u001b[0m\u001b[1;33m:\u001b[0m\u001b[1;33m\u001b[0m\u001b[1;33m\u001b[0m\u001b[0m\n\u001b[1;32m---> 28\u001b[1;33m             \u001b[0mid_user\u001b[0m \u001b[1;33m=\u001b[0m \u001b[0mint\u001b[0m\u001b[1;33m(\u001b[0m\u001b[0mfile\u001b[0m\u001b[1;33m.\u001b[0m\u001b[0msplit\u001b[0m\u001b[1;33m(\u001b[0m\u001b[1;34m\"_\"\u001b[0m\u001b[1;33m)\u001b[0m\u001b[1;33m[\u001b[0m\u001b[1;36m1\u001b[0m\u001b[1;33m]\u001b[0m\u001b[1;33m)\u001b[0m\u001b[1;33m\u001b[0m\u001b[1;33m\u001b[0m\u001b[0m\n\u001b[0m\u001b[0;32m     29\u001b[0m             \u001b[1;32mif\u001b[0m \u001b[0mfile\u001b[0m\u001b[1;33m.\u001b[0m\u001b[0mstartswith\u001b[0m\u001b[1;33m(\u001b[0m\u001b[1;34m\"random\"\u001b[0m\u001b[1;33m)\u001b[0m\u001b[1;33m:\u001b[0m\u001b[1;33m\u001b[0m\u001b[1;33m\u001b[0m\u001b[0m\n\u001b[0;32m     30\u001b[0m                 \u001b[1;32mif\u001b[0m \u001b[0mfile\u001b[0m\u001b[1;33m.\u001b[0m\u001b[0mendswith\u001b[0m\u001b[1;33m(\u001b[0m\u001b[1;34m\"following.json\"\u001b[0m\u001b[1;33m)\u001b[0m\u001b[1;33m:\u001b[0m\u001b[1;33m\u001b[0m\u001b[1;33m\u001b[0m\u001b[0m\n",
      "\u001b[1;31mValueError\u001b[0m: invalid literal for int() with base 10: 'Store'"
     ]
    }
   ],
   "source": [
    "import os\n",
    "\n",
    "directory = \"data\"\n",
    "G = nx.DiGraph(membri=[\"Lorenzo Bellina\" \"Francesco Bombassei De Bona\", \"Andrea Cantarutti\", \"Gabriele Dominici\"])\n",
    "for dirname in os.listdir(directory):\n",
    "    if not dirname.startswith(\".\") and not dirname == \"all_users.json\":\n",
    "        print(f\"Analizzo {dirname}\")\n",
    "        s = Serializer(f\"data/{dirname}\")\n",
    "        profile = s.read_json(f\"{dirname}_profile.json\")\n",
    "        G.add_node(profile[\"id\"], **profile)\n",
    "        print(f'Aggiungo il nodo {profile[\"name\"]}')\n",
    "\n",
    "        followers = s.read_json(f\"{dirname}_followers.json\")\n",
    "        print(f'Aggiungo i {len(followers)} followers di {profile[\"name\"]}')\n",
    "        for item in followers:\n",
    "            G.add_node(item[\"id\"], **item)\n",
    "            G.add_edge(item[\"id\"], profile[\"id\"])\n",
    "\n",
    "        following = s.read_json(f\"{dirname}_following.json\")\n",
    "        print(f'Aggiungo i {len(following)} following di {profile[\"name\"]}')\n",
    "        for item in following:\n",
    "            G.add_node(item[\"id\"], **item)\n",
    "            G.add_edge(profile[\"id\"], item[\"id\"])\n",
    "\n",
    "        print(f'Inserisco i random di {profile[\"name\"]}')\n",
    "        temp_dir = directory+\"/\"+dirname\n",
    "        for file in os.listdir(temp_dir):\n",
    "            id_user = int(file.split(\"_\")[1])\n",
    "            if file.startswith(\"random\"):\n",
    "                if file.endswith(\"following.json\"):\n",
    "                    following = s.read_json(f\"{file}\")\n",
    "                    print(f\"Inserisco i {len(following)} following del random di id {id_user}\")\n",
    "                    for item in following:\n",
    "                        G.add_node(item[\"id\"], **item)\n",
    "                        G.add_edge(id_user, item[\"id\"])\n",
    "                elif file.endswith(\"follower.json\"):\n",
    "                    followers = s.read_json(f\"{file}\")\n",
    "                    print(f\"Inserisco i {len(followers)} followers del random di id {id_user}\")\n",
    "                    for item in followers:\n",
    "                        G.add_node(item[\"id\"], **item)\n",
    "                        G.add_edge(item[\"id\"], id_user)\n",
    "        node_it = G.in_degree()\n",
    "        for (node, in_degree) in node_it:\n",
    "            G.nodes[node][\"follower_finded\"] = in_degree \n",
    "            \n",
    "nx.write_gpickle(G, \"graph/graph_networkx.pkl\")"
   ]
  }
 ],
 "metadata": {
  "kernelspec": {
   "display_name": "Python 3",
   "language": "python",
   "name": "python3"
  },
  "language_info": {
   "codemirror_mode": {
    "name": "ipython",
    "version": 3
   },
   "file_extension": ".py",
   "mimetype": "text/x-python",
   "name": "python",
   "nbconvert_exporter": "python",
   "pygments_lexer": "ipython3",
   "version": "3.7.9"
  }
 },
 "nbformat": 4,
 "nbformat_minor": 4
}
