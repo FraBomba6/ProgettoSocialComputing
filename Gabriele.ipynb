{
 "cells": [
  {
   "cell_type": "code",
   "execution_count": 9,
   "metadata": {},
   "outputs": [],
   "source": [
    "import os \n",
    "import json\n",
    "import pprint\n",
    "%matplotlib inline\n",
    "from serializer import*\n",
    "import tweepy\n",
    "import pandas as pd\n",
    "import networkx as nx\n",
    "import numpy as np\n",
    "import matplotlib.pyplot as plt\n",
    "from pylab import rcParams\n",
    "from pyvis.network import Network\n",
    "\n",
    "#Twitter API credentials\n",
    "api_key = \"ENFvcEFBU6prbQWZVMKYHhHCW\"\n",
    "api_secret = \"OoLxYiucfTgnheUH1Bp7YJTsyIto9VcxLERBeXCg84NwjjgCAr\"\n",
    "access_token = \"2572511777-adhDu1rnH5RYVPdfk51jPzLbOzpppivKmVYTtFH\"\n",
    "access_secret = \"Oq1Q8CTYoDKxfyal7aY2x5V88QBqM2SAFac5e8LV6eeWY\"\n",
    "bearer_token = \"AAAAAAAAAAAAAAAAAAAAAJkTJQEAAAAAaoRAjF4yb5OBca0iPYQZvs5vH5s%3D5AG5ZaEGM6pFtGL7cQohdtzimqd1aLcqHGbJPOSCXO4Fxnltwz\""
   ]
  },
  {
   "cell_type": "code",
   "execution_count": 10,
   "metadata": {},
   "outputs": [
    {
     "name": "stdout",
     "output_type": "stream",
     "text": [
      "Authentication completed successfully!\n"
     ]
    }
   ],
   "source": [
    "auth = tweepy.OAuthHandler(api_key, api_secret)\n",
    "auth.set_access_token(access_token, access_secret)\n",
    "api = tweepy.API(auth, wait_on_rate_limit=True, wait_on_rate_limit_notify=True)\n",
    "if(api.verify_credentials):\n",
    "    print ('Authentication completed successfully!')\n",
    "    \n",
    "s = Serializer(\"followers\")"
   ]
  },
  {
   "cell_type": "code",
   "execution_count": 7,
   "metadata": {
    "scrolled": false
   },
   "outputs": [
    {
     "name": "stdout",
     "output_type": "stream",
     "text": [
      "Processing @Miccighel_\n",
      "Found 212 followers for @Miccighel_\n",
      "Data serialized to path: followers/Miccighel__followers.json\n"
     ]
    }
   ],
   "source": [
    "users = [\"Miccighel_\"]\n",
    "\n",
    "for user in users:\n",
    "    print(f\"Processing @{user}\")\n",
    "\n",
    "    user_followers = []\n",
    "\n",
    "    for item in tweepy.Cursor(\n",
    "            api.friends,\n",
    "            screen_name=user,\n",
    "            skip_status=True,\n",
    "            include_user_entities=False\n",
    "    ).items():\n",
    "        user_followers.append(item._json)\n",
    "\n",
    "    print(f\"Found {len(user_followers)} followers for @{user}\")\n",
    "    s.serialize_json(f\"{user}_following.json\", user_followers)"
   ]
  },
  {
   "cell_type": "code",
   "execution_count": 2,
   "metadata": {},
   "outputs": [
    {
     "ename": "SyntaxError",
     "evalue": "unexpected EOF while parsing (<ipython-input-2-92c45497e4e2>, line 5)",
     "output_type": "error",
     "traceback": [
      "\u001b[1;36m  File \u001b[1;32m\"<ipython-input-2-92c45497e4e2>\"\u001b[1;36m, line \u001b[1;32m5\u001b[0m\n\u001b[1;33m    \u001b[0m\n\u001b[1;37m    ^\u001b[0m\n\u001b[1;31mSyntaxError\u001b[0m\u001b[1;31m:\u001b[0m unexpected EOF while parsing\n"
     ]
    }
   ],
   "source": [
    "import os\n",
    "\n",
    "G = nx.DiGraph(membri=[\"Lorenzo Bellina\" \"Francesco Bombassei De Bona\", \"Andrea Cantarutti\", \"Gabriele Dominici\"])\n",
    "for dirname in os.listdir(directory):\n",
    "    s = Serializer(f\"data/{dirname}\")\n",
    "    profile = s.read_json(f\"{dirname}_profile.json\")\n",
    "    G.add_node(profile[0][\"id\"], profile[0])\n",
    "    followers = s.read_json(f\"{dirname}_follower.json\")\n",
    "    for item in followers:\n",
    "        G.add_node(item[\"id\"], item)\n",
    "        G.add_edge(item[\"id\"], profile[0][\"id\"])\n",
    "    following = s.read_json(f\"{dirname}_following.json\")\n",
    "    for item in following:\n",
    "        G.add_node(item[\"id\"], item)\n",
    "        G.add_edge(profile[0][\"id\"], item[\"id\"])\n",
    "    for node in G.nodes:\n",
    "        G.nodes[node][follower]"
   ]
  },
  {
   "cell_type": "code",
   "execution_count": 12,
   "metadata": {},
   "outputs": [
    {
     "ename": "IndentationError",
     "evalue": "unexpected indent (<ipython-input-12-0c77549f642a>, line 21)",
     "output_type": "error",
     "traceback": [
      "\u001b[1;36m  File \u001b[1;32m\"<ipython-input-12-0c77549f642a>\"\u001b[1;36m, line \u001b[1;32m21\u001b[0m\n\u001b[1;33m    json = serializer.read_json(f\"{user}_following.json\")\u001b[0m\n\u001b[1;37m    ^\u001b[0m\n\u001b[1;31mIndentationError\u001b[0m\u001b[1;31m:\u001b[0m unexpected indent\n"
     ]
    }
   ],
   "source": [
    "import random\n",
    "users = [\"damiano10\"]\n",
    "\"\"\"\n",
    "for user in users:\n",
    "    serializer = Serializer(f'data/{user}')\n",
    "    json = serializer.read_json(f\"{user}_followers.json\")\n",
    "    for count in range(0, 5):\n",
    "        random_follower = random.choice(json)[\"screen_name\"]\n",
    "        random_follower_followers = []\n",
    "        for item in tweepy.Cursor(\n",
    "                api.followers,\n",
    "                screen_name=random_follower,\n",
    "                skip_status=True,\n",
    "                include_user_entities=False\n",
    "        ).items(10):\n",
    "            found_follower = item._json\n",
    "            random_follower_followers.append(found_follower)\n",
    "        print(f\"Found {len(random_follower_followers)} followers for @{random_follower}\")\n",
    "        serializer.serialize_json(f\"random_{random_follower}_follower.json\", random_follower_followers)\n",
    "\"\"\"\n",
    "    json = serializer.read_json(f\"{user}_following.json\")\n",
    "    for count in range(0, 1):\n",
    "        random_friend = random.choice(json)[\"screen_name\"]\n",
    "        random_friend_friends = []\n",
    "        for item in tweepy.Cursor(\n",
    "                api.friends,\n",
    "                screen_name=random_friend,\n",
    "                skip_status=True,\n",
    "                include_user_entities=False\n",
    "        ).items(10):\n",
    "            found_friend = item._json\n",
    "            random_friend_friends.append(found_friend)\n",
    "        print(f\"@{random_friend} follows {len(random_friend_friends)} users\")\n",
    "        serializer.serialize_json(f\"random_{random_friend}_following.json\", random_friend_friends)\n"
   ]
  }
 ],
 "metadata": {
  "kernelspec": {
   "display_name": "Python 3",
   "language": "python",
   "name": "python3"
  },
  "language_info": {
   "codemirror_mode": {
    "name": "ipython",
    "version": 3
   },
   "file_extension": ".py",
   "mimetype": "text/x-python",
   "name": "python",
   "nbconvert_exporter": "python",
   "pygments_lexer": "ipython3",
   "version": "3.7.7"
  }
 },
 "nbformat": 4,
 "nbformat_minor": 4
}
