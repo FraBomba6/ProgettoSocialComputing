{
 "cells": [
  {
   "cell_type": "code",
   "execution_count": 2,
   "metadata": {},
   "outputs": [],
   "source": [
    "import os \n",
    "import json\n",
    "import pprint\n",
    "%matplotlib inline\n",
    "from serializer import*\n",
    "import tweepy\n",
    "\n",
    "#Twitter API credentials\n",
    "api_key = \"ENFvcEFBU6prbQWZVMKYHhHCW\"\n",
    "api_secret = \"OoLxYiucfTgnheUH1Bp7YJTsyIto9VcxLERBeXCg84NwjjgCAr\"\n",
    "access_token = \"2572511777-adhDu1rnH5RYVPdfk51jPzLbOzpppivKmVYTtFH\"\n",
    "access_secret = \"Oq1Q8CTYoDKxfyal7aY2x5V88QBqM2SAFac5e8LV6eeWY\"\n",
    "bearer_token = \"AAAAAAAAAAAAAAAAAAAAAJkTJQEAAAAAaoRAjF4yb5OBca0iPYQZvs5vH5s%3D5AG5ZaEGM6pFtGL7cQohdtzimqd1aLcqHGbJPOSCXO4Fxnltwz\""
   ]
  },
  {
   "cell_type": "code",
   "execution_count": 3,
   "metadata": {},
   "outputs": [
    {
     "name": "stdout",
     "output_type": "stream",
     "text": [
      "Authentication completed successfully!\n"
     ]
    }
   ],
   "source": [
    "auth = tweepy.OAuthHandler(api_key, api_secret)\n",
    "auth.set_access_token(access_token, access_secret)\n",
    "api = tweepy.API(auth, wait_on_rate_limit=True, wait_on_rate_limit_notify=True)\n",
    "if(api.verify_credentials):\n",
    "    print ('Authentication completed successfully!')\n",
    "    \n",
    "s = Serializer(\"followers\")"
   ]
  },
  {
   "cell_type": "code",
   "execution_count": null,
   "metadata": {
    "scrolled": false
   },
   "outputs": [
    {
     "name": "stdout",
     "output_type": "stream",
     "text": [
      "Processing @damiano10\n"
     ]
    },
    {
     "name": "stderr",
     "output_type": "stream",
     "text": [
      "Rate limit reached. Sleeping for: 813\n",
      "Rate limit reached. Sleeping for: 892\n"
     ]
    }
   ],
   "source": [
    "users = [\"damiano10\"]\n",
    "\n",
    "for user in users:\n",
    "    print(f\"Processing @{user}\")\n",
    "\n",
    "    user_followers = []\n",
    "\n",
    "    for item in tweepy.Cursor(\n",
    "            api.followers,\n",
    "            screen_name=user,\n",
    "            skip_status=True,\n",
    "            include_user_entities=False\n",
    "    ).items():\n",
    "        user_followers.append(item._json)\n",
    "\n",
    "    print(f\"Found {len(user_followers)} followers for @{user}\")\n",
    "    s.serialize_json(f\"{user}_followers.json\", user_followers)"
   ]
  },
  {
   "cell_type": "code",
   "execution_count": null,
   "metadata": {},
   "outputs": [],
   "source": []
  }
 ],
 "metadata": {
  "kernelspec": {
   "display_name": "Python 3",
   "language": "python",
   "name": "python3"
  }
 },
 "nbformat": 4,
 "nbformat_minor": 4
}
