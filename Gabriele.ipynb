{
 "cells": [
  {
   "cell_type": "code",
   "execution_count": 9,
   "metadata": {},
   "outputs": [],
   "source": [
    "import os \n",
    "import json\n",
    "import pprint\n",
    "%matplotlib inline\n",
    "from serializer import*\n",
    "import tweepy\n",
    "import pandas as pd\n",
    "import networkx as nx\n",
    "import numpy as np\n",
    "import matplotlib.pyplot as plt\n",
    "from pylab import rcParams\n",
    "from pyvis.network import Network\n",
    "\n",
    "#Twitter API credentials\n",
    "api_key = \"ENFvcEFBU6prbQWZVMKYHhHCW\"\n",
    "api_secret = \"OoLxYiucfTgnheUH1Bp7YJTsyIto9VcxLERBeXCg84NwjjgCAr\"\n",
    "access_token = \"2572511777-adhDu1rnH5RYVPdfk51jPzLbOzpppivKmVYTtFH\"\n",
    "access_secret = \"Oq1Q8CTYoDKxfyal7aY2x5V88QBqM2SAFac5e8LV6eeWY\"\n",
    "bearer_token = \"AAAAAAAAAAAAAAAAAAAAAJkTJQEAAAAAaoRAjF4yb5OBca0iPYQZvs5vH5s%3D5AG5ZaEGM6pFtGL7cQohdtzimqd1aLcqHGbJPOSCXO4Fxnltwz\""
   ]
  },
  {
   "cell_type": "code",
   "execution_count": 10,
   "metadata": {},
   "outputs": [
    {
     "name": "stdout",
     "output_type": "stream",
     "text": [
      "Authentication completed successfully!\n"
     ]
    }
   ],
   "source": [
    "auth = tweepy.OAuthHandler(api_key, api_secret)\n",
    "auth.set_access_token(access_token, access_secret)\n",
    "api = tweepy.API(auth, wait_on_rate_limit=True, wait_on_rate_limit_notify=True)\n",
    "if(api.verify_credentials):\n",
    "    print ('Authentication completed successfully!')\n",
    "    \n",
    "s = Serializer(\"followers\")"
   ]
  },
  {
   "cell_type": "code",
   "execution_count": 7,
   "metadata": {
    "scrolled": false
   },
   "outputs": [
    {
     "name": "stdout",
     "output_type": "stream",
     "text": [
      "Processing @Miccighel_\n",
      "Found 212 followers for @Miccighel_\n",
      "Data serialized to path: followers/Miccighel__followers.json\n"
     ]
    }
   ],
   "source": [
    "users = [\"Miccighel_\"]\n",
    "\n",
    "for user in users:\n",
    "    print(f\"Processing @{user}\")\n",
    "\n",
    "    user_followers = []\n",
    "\n",
    "    for item in tweepy.Cursor(\n",
    "            api.friends,\n",
    "            screen_name=user,\n",
    "            skip_status=True,\n",
    "            include_user_entities=False\n",
    "    ).items():\n",
    "        user_followers.append(item._json)\n",
    "\n",
    "    print(f\"Found {len(user_followers)} followers for @{user}\")\n",
    "    s.serialize_json(f\"{user}_following.json\", user_followers)"
   ]
  },
  {
   "cell_type": "code",
   "execution_count": 2,
   "metadata": {},
   "outputs": [
    {
     "ename": "SyntaxError",
     "evalue": "unexpected EOF while parsing (<ipython-input-2-92c45497e4e2>, line 5)",
     "output_type": "error",
     "traceback": [
      "\u001b[1;36m  File \u001b[1;32m\"<ipython-input-2-92c45497e4e2>\"\u001b[1;36m, line \u001b[1;32m5\u001b[0m\n\u001b[1;33m    \u001b[0m\n\u001b[1;37m    ^\u001b[0m\n\u001b[1;31mSyntaxError\u001b[0m\u001b[1;31m:\u001b[0m unexpected EOF while parsing\n"
     ]
    }
   ],
   "source": [
    "import os\n",
    "\n",
    "G = nx.DiGraph(membri=[\"Lorenzo Bellina\" \"Francesco Bombassei De Bona\", \"Andrea Cantarutti\", \"Gabriele Dominici\"])\n",
    "for dirname in os.listdir(directory):\n",
    "    print(f\"Analizzo {dirname}\")\n",
    "    s = Serializer(f\"data/{dirname}\")\n",
    "    profile = s.read_json(f\"{dirname}_profile.json\")\n",
    "    G.add_node(profile[0][\"id\"], profile[0])\n",
    "    print(f\"Aggiungo il nodo {profile[0][\"name\"]}\")\n",
    "    followers = s.read_json(f\"{dirname}_followers.json\")\n",
    "    \n",
    "    for item in followers:\n",
    "        G.add_node(item[\"id\"], item)\n",
    "        G.add_edge(item[\"id\"], profile[0][\"id\"])\n",
    "    following = s.read_json(f\"{dirname}_following.json\")\n",
    "    for item in following:\n",
    "        G.add_node(item[\"id\"], item)\n",
    "        G.add_edge(profile[0][\"id\"], item[\"id\"])\n",
    "    for file in os.listdir(dirname):\n",
    "        id_user = file.split(\"-\")[1]\n",
    "        if file.startswith(\"random\"):\n",
    "            if file.endswith(\"following.json\"):\n",
    "                following = s.read_json(f\"{dirname}_following.json\")\n",
    "                for item in following:\n",
    "                    G.add_node(item[\"id\"], item)\n",
    "                    G.add_edge(id_user, item[\"id\"])\n",
    "            elif file.endswith(\"followers.json\"):\n",
    "                followers = s.read_json(f\"{dirname}_followers.json\")\n",
    "                for item in followers:\n",
    "                    G.add_node(item[\"id\"], item)\n",
    "                    G.add_edge(item[\"id\"], id_user)\n",
    "    for node in G.nodes:\n",
    "        G.nodes[node][follower]"
   ]
  },
  {
   "cell_type": "code",
   "execution_count": 15,
   "metadata": {
    "scrolled": false
   },
   "outputs": [
    {
     "name": "stdout",
     "output_type": "stream",
     "text": [
      "Data read from path: data/KevinRoitero/KevinRoitero_followers.json\n",
      "Found 10 followers for @Giorgiattone\n",
      "Data serialized to path: data/KevinRoitero/random_829903626_follower.json\n",
      "Found 10 followers for @ntcirwww\n",
      "Data serialized to path: data/KevinRoitero/random_735809541456027648_follower.json\n",
      "Found 10 followers for @amrapaliz\n",
      "Data serialized to path: data/KevinRoitero/random_350164545_follower.json\n",
      "Found 10 followers for @cs2_school\n",
      "Data serialized to path: data/KevinRoitero/random_824668943285702661_follower.json\n",
      "Found 10 followers for @CriMuntean\n",
      "Data serialized to path: data/KevinRoitero/random_308456550_follower.json\n",
      "Data read from path: data/KevinRoitero/KevinRoitero_following.json\n",
      "@{'id': 73509664, 'id_str': '73509664', 'name': 'Maiara Walsh', 'screen_name': 'MaiaraWalsh', 'location': 'California', 'url': 'http://www.maiaradream.com', 'description': 'Dreamer', 'protected': False, 'followers_count': 104720, 'friends_count': 82893, 'listed_count': 559, 'created_at': 'Fri Sep 11 23:03:26 +0000 2009', 'favourites_count': 9599, 'utc_offset': None, 'time_zone': None, 'geo_enabled': False, 'verified': True, 'statuses_count': 5416, 'lang': None, 'contributors_enabled': False, 'is_translator': False, 'is_translation_enabled': False, 'profile_background_color': '08010F', 'profile_background_image_url': 'http://abs.twimg.com/images/themes/theme1/bg.png', 'profile_background_image_url_https': 'https://abs.twimg.com/images/themes/theme1/bg.png', 'profile_background_tile': True, 'profile_image_url': 'http://pbs.twimg.com/profile_images/993931883669962752/8AUUdDvh_normal.jpg', 'profile_image_url_https': 'https://pbs.twimg.com/profile_images/993931883669962752/8AUUdDvh_normal.jpg', 'profile_banner_url': 'https://pbs.twimg.com/profile_banners/73509664/1525807114', 'profile_link_color': '0099CC', 'profile_sidebar_border_color': 'FFFFFF', 'profile_sidebar_fill_color': 'D1DAFF', 'profile_text_color': '000000', 'profile_use_background_image': True, 'has_extended_profile': False, 'default_profile': False, 'default_profile_image': False, 'following': False, 'live_following': False, 'follow_request_sent': False, 'notifications': False, 'muting': False, 'blocking': False, 'blocked_by': False, 'translator_type': 'none'} follows 10 users\n",
      "Data serialized to path: data/KevinRoitero/random_73509664_following.json\n",
      "@{'id': 1111315973125169152, 'id_str': '1111315973125169152', 'name': 'CIKM2020', 'screen_name': 'cikm2020', 'location': 'Online', 'url': 'http://cikm2020.org', 'description': '29th Conference in Information and Knowledge Management \\n19-23 October 2020 #online #cikm2020', 'protected': False, 'followers_count': 929, 'friends_count': 270, 'listed_count': 22, 'created_at': 'Thu Mar 28 17:15:50 +0000 2019', 'favourites_count': 217, 'utc_offset': None, 'time_zone': None, 'geo_enabled': False, 'verified': False, 'statuses_count': 201, 'lang': None, 'contributors_enabled': False, 'is_translator': False, 'is_translation_enabled': False, 'profile_background_color': 'F5F8FA', 'profile_background_image_url': None, 'profile_background_image_url_https': None, 'profile_background_tile': False, 'profile_image_url': 'http://pbs.twimg.com/profile_images/1187329787326599169/5-LP5ICC_normal.jpg', 'profile_image_url_https': 'https://pbs.twimg.com/profile_images/1187329787326599169/5-LP5ICC_normal.jpg', 'profile_banner_url': 'https://pbs.twimg.com/profile_banners/1111315973125169152/1572612746', 'profile_link_color': '1DA1F2', 'profile_sidebar_border_color': 'C0DEED', 'profile_sidebar_fill_color': 'DDEEF6', 'profile_text_color': '333333', 'profile_use_background_image': True, 'has_extended_profile': False, 'default_profile': True, 'default_profile_image': False, 'following': False, 'live_following': False, 'follow_request_sent': False, 'notifications': False, 'muting': False, 'blocking': False, 'blocked_by': False, 'translator_type': 'none'} follows 10 users\n",
      "Data serialized to path: data/KevinRoitero/random_1111315973125169152_following.json\n",
      "@{'id': 406303880, 'id_str': '406303880', 'name': 'Md Zia Ullah', 'screen_name': 'zuacsea', 'location': 'Toulouse, France', 'url': 'http://kde.cs.tut.ac.jp/~arif', 'description': 'Postdoc at IRIT, CNRS. Research interests Information retrieval.', 'protected': False, 'followers_count': 284, 'friends_count': 774, 'listed_count': 75, 'created_at': 'Sun Nov 06 14:40:51 +0000 2011', 'favourites_count': 1770, 'utc_offset': None, 'time_zone': None, 'geo_enabled': True, 'verified': False, 'statuses_count': 2240, 'lang': None, 'contributors_enabled': False, 'is_translator': False, 'is_translation_enabled': False, 'profile_background_color': '709397', 'profile_background_image_url': 'http://abs.twimg.com/images/themes/theme6/bg.gif', 'profile_background_image_url_https': 'https://abs.twimg.com/images/themes/theme6/bg.gif', 'profile_background_tile': False, 'profile_image_url': 'http://pbs.twimg.com/profile_images/893256444052520960/BD-jbLXW_normal.jpg', 'profile_image_url_https': 'https://pbs.twimg.com/profile_images/893256444052520960/BD-jbLXW_normal.jpg', 'profile_banner_url': 'https://pbs.twimg.com/profile_banners/406303880/1440334102', 'profile_link_color': '260C8A', 'profile_sidebar_border_color': 'FFFFFF', 'profile_sidebar_fill_color': 'A0C5C7', 'profile_text_color': '333333', 'profile_use_background_image': True, 'has_extended_profile': True, 'default_profile': False, 'default_profile_image': False, 'following': False, 'live_following': False, 'follow_request_sent': False, 'notifications': False, 'muting': False, 'blocking': False, 'blocked_by': False, 'translator_type': 'none'} follows 10 users\n",
      "Data serialized to path: data/KevinRoitero/random_406303880_following.json\n",
      "@{'id': 308456550, 'id_str': '308456550', 'name': 'cristina muntean', 'screen_name': 'CriMuntean', 'location': 'Pisa, Toscana', 'url': 'https://twitter.com/CriMuntean', 'description': '', 'protected': False, 'followers_count': 156, 'friends_count': 527, 'listed_count': 8, 'created_at': 'Tue May 31 13:02:06 +0000 2011', 'favourites_count': 592, 'utc_offset': None, 'time_zone': None, 'geo_enabled': True, 'verified': False, 'statuses_count': 216, 'lang': None, 'contributors_enabled': False, 'is_translator': False, 'is_translation_enabled': False, 'profile_background_color': 'EDECE9', 'profile_background_image_url': 'http://abs.twimg.com/images/themes/theme3/bg.gif', 'profile_background_image_url_https': 'https://abs.twimg.com/images/themes/theme3/bg.gif', 'profile_background_tile': False, 'profile_image_url': 'http://pbs.twimg.com/profile_images/1249417378288541698/xVe1I349_normal.jpg', 'profile_image_url_https': 'https://pbs.twimg.com/profile_images/1249417378288541698/xVe1I349_normal.jpg', 'profile_banner_url': 'https://pbs.twimg.com/profile_banners/308456550/1372947045', 'profile_link_color': '088253', 'profile_sidebar_border_color': 'D3D2CF', 'profile_sidebar_fill_color': 'E3E2DE', 'profile_text_color': '634047', 'profile_use_background_image': True, 'has_extended_profile': False, 'default_profile': False, 'default_profile_image': False, 'following': False, 'live_following': False, 'follow_request_sent': False, 'notifications': False, 'muting': False, 'blocking': False, 'blocked_by': False, 'translator_type': 'regular'} follows 10 users\n",
      "Data serialized to path: data/KevinRoitero/random_308456550_following.json\n",
      "@{'id': 1734817550, 'id_str': '1734817550', 'name': 'Ronaoke', 'screen_name': 'CreepySound', 'location': '', 'url': None, 'description': \"No one can't know another person, unless you love.\", 'protected': False, 'followers_count': 1159, 'friends_count': 3620, 'listed_count': 5, 'created_at': 'Fri Sep 06 11:19:36 +0000 2013', 'favourites_count': 2753, 'utc_offset': None, 'time_zone': None, 'geo_enabled': False, 'verified': False, 'statuses_count': 839, 'lang': None, 'contributors_enabled': False, 'is_translator': False, 'is_translation_enabled': False, 'profile_background_color': '000000', 'profile_background_image_url': 'http://abs.twimg.com/images/themes/theme14/bg.gif', 'profile_background_image_url_https': 'https://abs.twimg.com/images/themes/theme14/bg.gif', 'profile_background_tile': False, 'profile_image_url': 'http://pbs.twimg.com/profile_images/790253508415090688/p3jgD37Q_normal.jpg', 'profile_image_url_https': 'https://pbs.twimg.com/profile_images/790253508415090688/p3jgD37Q_normal.jpg', 'profile_banner_url': 'https://pbs.twimg.com/profile_banners/1734817550/1426463625', 'profile_link_color': 'DD2E44', 'profile_sidebar_border_color': '000000', 'profile_sidebar_fill_color': '000000', 'profile_text_color': '000000', 'profile_use_background_image': False, 'has_extended_profile': False, 'default_profile': False, 'default_profile_image': False, 'following': False, 'live_following': False, 'follow_request_sent': False, 'notifications': False, 'muting': False, 'blocking': False, 'blocked_by': False, 'translator_type': 'none'} follows 10 users\n",
      "Data serialized to path: data/KevinRoitero/random_1734817550_following.json\n",
      "Data read from path: data/eglu81/eglu81_followers.json\n"
     ]
    },
    {
     "name": "stdout",
     "output_type": "stream",
     "text": [
      "Found 10 followers for @nextwebsearch\n",
      "Data serialized to path: data/eglu81/random_1206594224537448449_follower.json\n",
      "Found 10 followers for @MartaSabou\n",
      "Data serialized to path: data/eglu81/random_106023728_follower.json\n",
      "Found 10 followers for @stefaniavicari\n",
      "Data serialized to path: data/eglu81/random_373580725_follower.json\n",
      "Found 10 followers for @HexenKoenig\n",
      "Data serialized to path: data/eglu81/random_75071601_follower.json\n",
      "Found 10 followers for @JulioGonzalo1\n",
      "Data serialized to path: data/eglu81/random_393675585_follower.json\n",
      "Data read from path: data/eglu81/eglu81_following.json\n",
      "@{'id': 139811295, 'id_str': '139811295', 'name': 'Michael Bendersky', 'screen_name': 'bemikelive', 'location': '', 'url': 'http://bendersky.github.io/', 'description': '@ Google.\\r\\n\\r\\nInterested in information retrieval, natural language processing, machine learning & their applications.', 'protected': False, 'followers_count': 1194, 'friends_count': 265, 'listed_count': 46, 'created_at': 'Mon May 03 19:15:54 +0000 2010', 'favourites_count': 209, 'utc_offset': None, 'time_zone': None, 'geo_enabled': True, 'verified': False, 'statuses_count': 393, 'lang': None, 'contributors_enabled': False, 'is_translator': False, 'is_translation_enabled': False, 'profile_background_color': '709397', 'profile_background_image_url': 'http://abs.twimg.com/images/themes/theme6/bg.gif', 'profile_background_image_url_https': 'https://abs.twimg.com/images/themes/theme6/bg.gif', 'profile_background_tile': False, 'profile_image_url': 'http://pbs.twimg.com/profile_images/1256444408200695808/8ZCMyEJG_normal.jpg', 'profile_image_url_https': 'https://pbs.twimg.com/profile_images/1256444408200695808/8ZCMyEJG_normal.jpg', 'profile_banner_url': 'https://pbs.twimg.com/profile_banners/139811295/1398811135', 'profile_link_color': 'FF3300', 'profile_sidebar_border_color': '86A4A6', 'profile_sidebar_fill_color': 'A0C5C7', 'profile_text_color': '333333', 'profile_use_background_image': True, 'has_extended_profile': False, 'default_profile': False, 'default_profile_image': False, 'following': False, 'live_following': False, 'follow_request_sent': False, 'notifications': False, 'muting': False, 'blocking': False, 'blocked_by': False, 'translator_type': 'none'} follows 10 users\n",
      "Data serialized to path: data/eglu81/random_139811295_following.json\n",
      "@{'id': 225110274, 'id_str': '225110274', 'name': 'Jessica Kegu', 'screen_name': 'jessicakegu', 'location': 'New York, NY', 'url': None, 'description': 'investigative team @CBSNews // DMs are open', 'protected': False, 'followers_count': 227, 'friends_count': 611, 'listed_count': 4, 'created_at': 'Fri Dec 10 18:21:25 +0000 2010', 'favourites_count': 676, 'utc_offset': None, 'time_zone': None, 'geo_enabled': True, 'verified': False, 'statuses_count': 239, 'lang': None, 'contributors_enabled': False, 'is_translator': False, 'is_translation_enabled': False, 'profile_background_color': '000000', 'profile_background_image_url': 'http://abs.twimg.com/images/themes/theme1/bg.png', 'profile_background_image_url_https': 'https://abs.twimg.com/images/themes/theme1/bg.png', 'profile_background_tile': False, 'profile_image_url': 'http://pbs.twimg.com/profile_images/1245758934578839552/hqwUvP13_normal.jpg', 'profile_image_url_https': 'https://pbs.twimg.com/profile_images/1245758934578839552/hqwUvP13_normal.jpg', 'profile_link_color': 'FAB81E', 'profile_sidebar_border_color': '000000', 'profile_sidebar_fill_color': '000000', 'profile_text_color': '000000', 'profile_use_background_image': False, 'has_extended_profile': False, 'default_profile': False, 'default_profile_image': False, 'following': False, 'live_following': False, 'follow_request_sent': False, 'notifications': False, 'muting': False, 'blocking': False, 'blocked_by': False, 'translator_type': 'none'} follows 10 users\n",
      "Data serialized to path: data/eglu81/random_225110274_following.json\n",
      "@{'id': 121881387, 'id_str': '121881387', 'name': 'Claudia Flores-Saviaga', 'screen_name': 'saviaga', 'location': 'United States/Mexico', 'url': 'http://saviaga.com/', 'description': '@Facebook Research Fellow | I research disinformation and ways to counter it using crowdsourcing and AI. PhD candidate CS WVU | Past: @CarnegieMellon @oiioxford', 'protected': False, 'followers_count': 6325, 'friends_count': 5018, 'listed_count': 133, 'created_at': 'Wed Mar 10 22:31:55 +0000 2010', 'favourites_count': 9641, 'utc_offset': None, 'time_zone': None, 'geo_enabled': True, 'verified': False, 'statuses_count': 2021, 'lang': None, 'contributors_enabled': False, 'is_translator': False, 'is_translation_enabled': False, 'profile_background_color': '0A1036', 'profile_background_image_url': 'http://abs.twimg.com/images/themes/theme10/bg.gif', 'profile_background_image_url_https': 'https://abs.twimg.com/images/themes/theme10/bg.gif', 'profile_background_tile': True, 'profile_image_url': 'http://pbs.twimg.com/profile_images/1079374662763724801/tvIDz9T-_normal.jpg', 'profile_image_url_https': 'https://pbs.twimg.com/profile_images/1079374662763724801/tvIDz9T-_normal.jpg', 'profile_banner_url': 'https://pbs.twimg.com/profile_banners/121881387/1575694272', 'profile_link_color': 'E81C4F', 'profile_sidebar_border_color': 'CC3366', 'profile_sidebar_fill_color': 'E5507E', 'profile_text_color': '362720', 'profile_use_background_image': True, 'has_extended_profile': True, 'default_profile': False, 'default_profile_image': False, 'following': False, 'live_following': False, 'follow_request_sent': False, 'notifications': False, 'muting': False, 'blocking': False, 'blocked_by': False, 'translator_type': 'none'} follows 10 users\n",
      "Data serialized to path: data/eglu81/random_121881387_following.json\n",
      "@{'id': 17455229, 'id_str': '17455229', 'name': 'Stefano Mazzocchi', 'screen_name': 'stefanomaz', 'location': 'Los Angeles, CA', 'url': 'http://www.betaversion.org/~stefano/', 'description': 'I help making things happen. Right now the Knowledge Graph at Google and personal fabrication on my own.', 'protected': False, 'followers_count': 587, 'friends_count': 60, 'listed_count': 59, 'created_at': 'Tue Nov 18 01:06:30 +0000 2008', 'favourites_count': 2, 'utc_offset': None, 'time_zone': None, 'geo_enabled': True, 'verified': False, 'statuses_count': 149, 'lang': None, 'contributors_enabled': False, 'is_translator': False, 'is_translation_enabled': False, 'profile_background_color': 'C0DEED', 'profile_background_image_url': 'http://abs.twimg.com/images/themes/theme1/bg.png', 'profile_background_image_url_https': 'https://abs.twimg.com/images/themes/theme1/bg.png', 'profile_background_tile': False, 'profile_image_url': 'http://pbs.twimg.com/profile_images/64769564/me-icon_normal.jpg', 'profile_image_url_https': 'https://pbs.twimg.com/profile_images/64769564/me-icon_normal.jpg', 'profile_link_color': '1DA1F2', 'profile_sidebar_border_color': 'C0DEED', 'profile_sidebar_fill_color': 'DDEEF6', 'profile_text_color': '333333', 'profile_use_background_image': True, 'has_extended_profile': False, 'default_profile': True, 'default_profile_image': False, 'following': False, 'live_following': False, 'follow_request_sent': False, 'notifications': False, 'muting': False, 'blocking': False, 'blocked_by': False, 'translator_type': 'none'} follows 10 users\n",
      "Data serialized to path: data/eglu81/random_17455229_following.json\n",
      "@{'id': 5921452, 'id_str': '5921452', 'name': 'Robin Bordoli', 'screen_name': 'rbordoli', 'location': 'San Francisco', 'url': 'http://nextroll.com', 'description': 'Husband, father, Brit, Cambridge & Stanford grad. Tech operating executive (@NextRoll_Inc, @FigureEightInc, @Marketo) & advisor (@getDatatron, @NameCoach)', 'protected': False, 'followers_count': 14843, 'friends_count': 7854, 'listed_count': 302, 'created_at': 'Thu May 10 05:20:16 +0000 2007', 'favourites_count': 545, 'utc_offset': None, 'time_zone': None, 'geo_enabled': True, 'verified': False, 'statuses_count': 1495, 'lang': None, 'contributors_enabled': False, 'is_translator': False, 'is_translation_enabled': False, 'profile_background_color': '9AE4E8', 'profile_background_image_url': 'http://abs.twimg.com/images/themes/theme1/bg.png', 'profile_background_image_url_https': 'https://abs.twimg.com/images/themes/theme1/bg.png', 'profile_background_tile': False, 'profile_image_url': 'http://pbs.twimg.com/profile_images/761404371888316416/fC7YUj_L_normal.jpg', 'profile_image_url_https': 'https://pbs.twimg.com/profile_images/761404371888316416/fC7YUj_L_normal.jpg', 'profile_link_color': '6095EB', 'profile_sidebar_border_color': '87BC44', 'profile_sidebar_fill_color': 'E0FF92', 'profile_text_color': '000000', 'profile_use_background_image': True, 'has_extended_profile': False, 'default_profile': False, 'default_profile_image': False, 'following': False, 'live_following': False, 'follow_request_sent': False, 'notifications': False, 'muting': False, 'blocking': False, 'blocked_by': False, 'translator_type': 'none'} follows 10 users\n",
      "Data serialized to path: data/eglu81/random_5921452_following.json\n"
     ]
    }
   ],
   "source": [
    "import random\n",
    "users = [\"KevinRoitero\", \"eglu81\"]\n",
    "for user in users:\n",
    "    serializer = Serializer(f'data/{user}')\n",
    "    json = serializer.read_json(f\"{user}_followers.json\")\n",
    "    for count in range(0, 5):\n",
    "        random_follower = random.choice(json)\n",
    "        random_follower_screenName = random_follower[\"screen_name\"]\n",
    "        random_follower_id = random_follower[\"id\"]\n",
    "        random_follower_followers = []\n",
    "        for item in tweepy.Cursor(\n",
    "                api.followers,\n",
    "                screen_name=random_follower_screenName,\n",
    "                skip_status=True,\n",
    "                include_user_entities=False\n",
    "        ).items(10):\n",
    "            found_follower = item._json\n",
    "            random_follower_followers.append(found_follower)\n",
    "        print(f\"Found {len(random_follower_followers)} followers for @{random_follower_screenName}\")\n",
    "        serializer.serialize_json(f\"random_{random_follower_id}_follower.json\", random_follower_followers)\n",
    "\n",
    "    json = serializer.read_json(f\"{user}_following.json\")\n",
    "    for count in range(0, 5):\n",
    "        random_friend = random.choice(json)\n",
    "        random_friend_screenName = random_friend[\"screen_name\"]\n",
    "        random_friend_id = random_friend[\"id\"]\n",
    "        random_friend_friends = []\n",
    "        for item in tweepy.Cursor(\n",
    "                api.friends,\n",
    "                screen_name=random_friend_screenName,\n",
    "                skip_status=True,\n",
    "                include_user_entities=False\n",
    "        ).items(10):\n",
    "            found_friend = item._json\n",
    "            random_friend_friends.append(found_friend)\n",
    "        print(f\"@{random_friend} follows {len(random_friend_friends)} users\")\n",
    "        serializer.serialize_json(f\"random_{random_friend_id}_following.json\", random_friend_friends)"
   ]
  }
 ],
 "metadata": {
  "kernelspec": {
   "display_name": "Python 3",
   "language": "python",
   "name": "python3"
  },
  "language_info": {
   "codemirror_mode": {
    "name": "ipython",
    "version": 3
   },
   "file_extension": ".py",
   "mimetype": "text/x-python",
   "name": "python",
   "nbconvert_exporter": "python",
   "pygments_lexer": "ipython3",
   "version": "3.7.7"
  }
 },
 "nbformat": 4,
 "nbformat_minor": 4
}
