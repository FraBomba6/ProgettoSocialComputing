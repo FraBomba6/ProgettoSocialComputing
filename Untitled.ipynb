{
 "cells": [
  {
   "cell_type": "code",
   "execution_count": 74,
   "metadata": {},
   "outputs": [],
   "source": [
    "import canta_secret\n",
    "import tweepy\n",
    "from serializer import Serializer\n",
    "import random\n",
    "\n",
    "consumer_key = canta_secret.key\n",
    "consumer_secret = canta_secret.secret\n",
    "bearer_token = canta_secret.bearer\n",
    "access_token = canta_secret.access_token\n",
    "access_secret = canta_secret.access_secret"
   ]
  },
  {
   "cell_type": "code",
   "execution_count": 75,
   "metadata": {},
   "outputs": [
    {
     "name": "stdout",
     "output_type": "stream",
     "text": [
      "Auth completed successfuly!\n"
     ]
    }
   ],
   "source": [
    "# Authentication to Twitter API\n",
    "\n",
    "auth = tweepy.OAuthHandler(consumer_key, consumer_secret)\n",
    "auth.set_access_token(access_token, access_secret)\n",
    "api = tweepy.API(auth, wait_on_rate_limit=True, wait_on_rate_limit_notify=True)\n",
    "if api.verify_credentials:\n",
    "    print(\"Auth completed successfuly!\")\n",
    "else:\n",
    "    print(\"Issue occoured during authentication\")"
   ]
  },
  {
   "cell_type": "code",
   "execution_count": 76,
   "metadata": {},
   "outputs": [],
   "source": [
    "def get_friendship(sourceid, targetid, api):\n",
    "\n",
    "    kind = \"\"\n",
    "    \n",
    "    friendship = api.show_friendship(source_id=sourceid, target_id=targetid)\n",
    "\n",
    "    if not friendship[0].following and not friendship[0].followed_by:\n",
    "        kind = \"none\"\n",
    "    elif not friendship[0].following and friendship[0].followed_by:\n",
    "        kind = \"r_l\"\n",
    "    elif friendship[0].following and not friendship[0].followed_by:\n",
    "        kind = \"l_r\"\n",
    "    else:\n",
    "        kind = \"bi\"\n",
    "    \n",
    "    return {\n",
    "            \"source_id\": sourceid,\n",
    "            \"target_id\": targetid,\n",
    "            \"friendship\": kind\n",
    "        }"
   ]
  },
  {
   "cell_type": "code",
   "execution_count": 77,
   "metadata": {},
   "outputs": [
    {
     "data": {
      "text/plain": [
       "{'source_id': 15750573, 'target_id': 18932422, 'friendship': 'none'}"
      ]
     },
     "execution_count": 77,
     "metadata": {},
     "output_type": "execute_result"
    }
   ],
   "source": [
    "get_friendship(15750573, 18932422, api)"
   ]
  },
  {
   "cell_type": "code",
   "execution_count": null,
   "metadata": {},
   "outputs": [],
   "source": []
  }
 ],
 "metadata": {
  "kernelspec": {
   "display_name": "Python 3",
   "language": "python",
   "name": "python3"
  },
  "language_info": {
   "codemirror_mode": {
    "name": "ipython",
    "version": 3
   },
   "file_extension": ".py",
   "mimetype": "text/x-python",
   "name": "python",
   "nbconvert_exporter": "python",
   "pygments_lexer": "ipython3",
   "version": "3.7.9"
  }
 },
 "nbformat": 4,
 "nbformat_minor": 4
}
